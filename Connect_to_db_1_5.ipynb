{
 "cells": [
  {
   "cell_type": "code",
   "execution_count": null,
   "source": [],
   "outputs": [],
   "metadata": {}
  },
  {
   "cell_type": "code",
   "execution_count": 10,
   "source": [
    "import pandas as pd\n",
    "pd.read_sql_query('SELECT * FROM ny_flights LIMIT 5', conn)"
   ],
   "outputs": [
    {
     "data": {
      "text/plain": [
       "  flight_date  dep_time  sched_dep_time  dep_delay  arr_time  sched_arr_time  \\\n",
       "0  2021-01-01       655             700         -5       747             817   \n",
       "1  2021-01-02       651             700         -9       847             817   \n",
       "2  2021-01-03       710             700         10       832             817   \n",
       "3  2021-01-04       700             700          0       816             817   \n",
       "4  2021-01-07       656             700         -4       757             835   \n",
       "\n",
       "   arr_delay airline tail_number  flight_number origin dest  air_time  \\\n",
       "0        -30      9E      N301PQ           4632    SYR  JFK        38   \n",
       "1         30      9E      N296PQ           4632    SYR  JFK        50   \n",
       "2         15      9E      N918XJ           4632    SYR  JFK        45   \n",
       "3         -1      9E      N919XJ           4632    SYR  JFK        46   \n",
       "4        -38      9E      N340CA           4632    SYR  JFK        45   \n",
       "\n",
       "   distance  cancelled  diverted  \n",
       "0       209          0         0  \n",
       "1       209          0         0  \n",
       "2       209          0         0  \n",
       "3       209          0         0  \n",
       "4       209          0         0  "
      ],
      "text/html": [
       "<div>\n",
       "<style scoped>\n",
       "    .dataframe tbody tr th:only-of-type {\n",
       "        vertical-align: middle;\n",
       "    }\n",
       "\n",
       "    .dataframe tbody tr th {\n",
       "        vertical-align: top;\n",
       "    }\n",
       "\n",
       "    .dataframe thead th {\n",
       "        text-align: right;\n",
       "    }\n",
       "</style>\n",
       "<table border=\"1\" class=\"dataframe\">\n",
       "  <thead>\n",
       "    <tr style=\"text-align: right;\">\n",
       "      <th></th>\n",
       "      <th>flight_date</th>\n",
       "      <th>dep_time</th>\n",
       "      <th>sched_dep_time</th>\n",
       "      <th>dep_delay</th>\n",
       "      <th>arr_time</th>\n",
       "      <th>sched_arr_time</th>\n",
       "      <th>arr_delay</th>\n",
       "      <th>airline</th>\n",
       "      <th>tail_number</th>\n",
       "      <th>flight_number</th>\n",
       "      <th>origin</th>\n",
       "      <th>dest</th>\n",
       "      <th>air_time</th>\n",
       "      <th>distance</th>\n",
       "      <th>cancelled</th>\n",
       "      <th>diverted</th>\n",
       "    </tr>\n",
       "  </thead>\n",
       "  <tbody>\n",
       "    <tr>\n",
       "      <th>0</th>\n",
       "      <td>2021-01-01</td>\n",
       "      <td>655</td>\n",
       "      <td>700</td>\n",
       "      <td>-5</td>\n",
       "      <td>747</td>\n",
       "      <td>817</td>\n",
       "      <td>-30</td>\n",
       "      <td>9E</td>\n",
       "      <td>N301PQ</td>\n",
       "      <td>4632</td>\n",
       "      <td>SYR</td>\n",
       "      <td>JFK</td>\n",
       "      <td>38</td>\n",
       "      <td>209</td>\n",
       "      <td>0</td>\n",
       "      <td>0</td>\n",
       "    </tr>\n",
       "    <tr>\n",
       "      <th>1</th>\n",
       "      <td>2021-01-02</td>\n",
       "      <td>651</td>\n",
       "      <td>700</td>\n",
       "      <td>-9</td>\n",
       "      <td>847</td>\n",
       "      <td>817</td>\n",
       "      <td>30</td>\n",
       "      <td>9E</td>\n",
       "      <td>N296PQ</td>\n",
       "      <td>4632</td>\n",
       "      <td>SYR</td>\n",
       "      <td>JFK</td>\n",
       "      <td>50</td>\n",
       "      <td>209</td>\n",
       "      <td>0</td>\n",
       "      <td>0</td>\n",
       "    </tr>\n",
       "    <tr>\n",
       "      <th>2</th>\n",
       "      <td>2021-01-03</td>\n",
       "      <td>710</td>\n",
       "      <td>700</td>\n",
       "      <td>10</td>\n",
       "      <td>832</td>\n",
       "      <td>817</td>\n",
       "      <td>15</td>\n",
       "      <td>9E</td>\n",
       "      <td>N918XJ</td>\n",
       "      <td>4632</td>\n",
       "      <td>SYR</td>\n",
       "      <td>JFK</td>\n",
       "      <td>45</td>\n",
       "      <td>209</td>\n",
       "      <td>0</td>\n",
       "      <td>0</td>\n",
       "    </tr>\n",
       "    <tr>\n",
       "      <th>3</th>\n",
       "      <td>2021-01-04</td>\n",
       "      <td>700</td>\n",
       "      <td>700</td>\n",
       "      <td>0</td>\n",
       "      <td>816</td>\n",
       "      <td>817</td>\n",
       "      <td>-1</td>\n",
       "      <td>9E</td>\n",
       "      <td>N919XJ</td>\n",
       "      <td>4632</td>\n",
       "      <td>SYR</td>\n",
       "      <td>JFK</td>\n",
       "      <td>46</td>\n",
       "      <td>209</td>\n",
       "      <td>0</td>\n",
       "      <td>0</td>\n",
       "    </tr>\n",
       "    <tr>\n",
       "      <th>4</th>\n",
       "      <td>2021-01-07</td>\n",
       "      <td>656</td>\n",
       "      <td>700</td>\n",
       "      <td>-4</td>\n",
       "      <td>757</td>\n",
       "      <td>835</td>\n",
       "      <td>-38</td>\n",
       "      <td>9E</td>\n",
       "      <td>N340CA</td>\n",
       "      <td>4632</td>\n",
       "      <td>SYR</td>\n",
       "      <td>JFK</td>\n",
       "      <td>45</td>\n",
       "      <td>209</td>\n",
       "      <td>0</td>\n",
       "      <td>0</td>\n",
       "    </tr>\n",
       "  </tbody>\n",
       "</table>\n",
       "</div>"
      ]
     },
     "metadata": {},
     "output_type": "display_data"
    }
   ],
   "metadata": {}
  },
  {
   "cell_type": "markdown",
   "source": [],
   "metadata": {}
  },
  {
   "cell_type": "markdown",
   "source": [],
   "metadata": {}
  },
  {
   "cell_type": "markdown",
   "source": [
    "Wow, that was way easier than expected and what's even better: we can replace the execute and fetchall steps with this! Now that we have the data in a dataframe, we can use all the different techniques we have learned already to explore and clean the data. We don't have to do that right now, but this will become very useful in the future.  \n",
    "You did a fantastic job ....and deserve to be called a badass python hacker!"
   ],
   "metadata": {}
  },
  {
   "cell_type": "code",
   "execution_count": 1,
   "source": [
    "# Import all necessary libraries\n",
    "import pandas as pd\n",
    "import numpy as np\n",
    "from config import config\n",
    "from sqlalchemy import exc #SQLAlchemy provides a nice “Pythonic” way of interacting with databases.\n",
    "from sqlalchemy import event"
   ],
   "outputs": [],
   "metadata": {}
  },
  {
   "cell_type": "code",
   "execution_count": 14,
   "source": [
    "import psycopg2\n",
    "from configdef import config\n",
    "\n",
    "def connect():\n",
    "    \"\"\" Connect to the PostgreSQL database server \"\"\"\n",
    "    conn = None\n",
    "    try:\n",
    "        # read connection parameters\n",
    "        params = config()\n",
    "\n",
    "        # connect to the PostgreSQL server\n",
    "        print('Connecting to the PostgreSQL database...')\n",
    "        conn = psycopg2.connect(**params)\n",
    "\t\t\n",
    "        # create a cursor\n",
    "        cur = conn.cursor()\n",
    "        \n",
    "\t# execute a statement\n",
    "        print('PostgreSQL database version:')\n",
    "        cur.execute('SELECT version()')\n",
    "\n",
    "        # display the PostgreSQL database server version\n",
    "        db_version = cur.fetchone()\n",
    "        print(db_version)\n",
    "       \n",
    "\t# close the communication with the PostgreSQL\n",
    "        cur.close()\n",
    "    except (Exception, psycopg2.DatabaseError) as error:\n",
    "        print(error)\n",
    "    finally:\n",
    "        if conn is not None:\n",
    "            conn.close()\n",
    "            print('Database connection closed.')\n",
    "\n"
   ],
   "outputs": [
    {
     "output_type": "stream",
     "name": "stdout",
     "text": [
      "Connecting to the PostgreSQL database...\n",
      "PostgreSQL database version:\n",
      "('PostgreSQL 13.3 on x86_64-pc-linux-gnu, compiled by gcc, a 68c5366192 p 6520304dc1, 64-bit',)\n",
      "Database connection closed.\n"
     ]
    }
   ],
   "metadata": {}
  },
  {
   "cell_type": "code",
   "execution_count": 26,
   "source": [
    "import psycopg2\n",
    "conn = psycopg2.connect(\n",
    "    host=\"db-postgresql-fra1-70962-do-user-8861194-0.b.db.ondigitalocean.com\",\n",
    "    port=\"25060\",\n",
    "    database=\"defaultdb\",\n",
    "    user=\"dauser\",\n",
    "    password=\"eknotwxxqpe9bmue\")\n",
    "\n",
    "def get_data(query):\n",
    "    cur = conn.cursor()\n",
    "    cur.execute(query)\n",
    "    rows = cur.fetchall()\n",
    "    print(rows)\n",
    "\n",
    "get_data('Select version()')"
   ],
   "outputs": [
    {
     "output_type": "stream",
     "name": "stdout",
     "text": [
      "[('PostgreSQL 13.3 on x86_64-pc-linux-gnu, compiled by gcc, a 68c5366192 p 6520304dc1, 64-bit',)]\n"
     ]
    }
   ],
   "metadata": {}
  },
  {
   "cell_type": "markdown",
   "source": [
    "We will go through this workflow step by step before we include all single steps into one, big, main function which does all the steps at once.  \n",
    "For our puropse, we will use public **flight data**. "
   ],
   "metadata": {}
  },
  {
   "cell_type": "markdown",
   "source": [
    "# 1. Set up a connection to a SQL database"
   ],
   "metadata": {}
  },
  {
   "cell_type": "markdown",
   "source": [
    "We start with connecting to an existing sql database, so that we can check what is already there and to send data to a table in the database later on."
   ],
   "metadata": {}
  },
  {
   "cell_type": "code",
   "execution_count": 2,
   "source": [
    "# Establish db connection\n",
    "\n",
    "# Get connection details from configdef file into a list\n",
    "params = config(section='postgres')\n",
    "\n",
    "# Use sql alchemy to create connection to database, which is contained within the engine object\n",
    "engine = pg_engine_connection(**params)\n",
    "\n",
    "# Cleans up unnecessary database connections\n",
    "engine.dispose()"
   ],
   "outputs": [
    {
     "output_type": "stream",
     "name": "stdout",
     "text": [
      "Postgres Database connection successful\n"
     ]
    }
   ],
   "metadata": {}
  },
  {
   "cell_type": "markdown",
   "source": [
    "Now, you can query data from a table in the database you are connected to.  \n",
    "We are working with the table called ny_flights, which contains data from 2019 and 2020 of the three New York airports (JFK, LGA and EWR).  \n",
    "Get an overview of this table by querying the top three rows."
   ],
   "metadata": {}
  },
  {
   "cell_type": "markdown",
   "source": [
    "With ```engine.execute('sql query')``` you create an object:"
   ],
   "metadata": {}
  },
  {
   "cell_type": "code",
   "execution_count": 12,
   "source": [
    "engine.execute('select * from ny_flights limit 3')"
   ],
   "outputs": [
    {
     "data": {
      "text/plain": [
       "<sqlalchemy.engine.result.ResultProxy at 0x7ff90ae0c1f0>"
      ]
     },
     "metadata": {},
     "output_type": "display_data"
    }
   ],
   "metadata": {}
  },
  {
   "cell_type": "markdown",
   "source": [
    "Using ```.fetchall()``` you can access the data you asked for in your query:"
   ],
   "metadata": {}
  },
  {
   "cell_type": "code",
   "execution_count": 4,
   "source": [
    "result = engine.execute('select * from ny_flights limit 3').fetchall()\n",
    "display(result)"
   ],
   "outputs": [
    {
     "data": {
      "text/plain": [
       "[(datetime.date(2021, 1, 1), 655, 700, -5, 747, 817, -30, '9E', 'N301PQ', 4632, 'SYR', 'JFK', 38, 209, 0, 0),\n",
       " (datetime.date(2021, 1, 2), 651, 700, -9, 847, 817, 30, '9E', 'N296PQ', 4632, 'SYR', 'JFK', 50, 209, 0, 0),\n",
       " (datetime.date(2021, 1, 3), 710, 700, 10, 832, 817, 15, '9E', 'N918XJ', 4632, 'SYR', 'JFK', 45, 209, 0, 0)]"
      ]
     },
     "metadata": {},
     "output_type": "display_data"
    }
   ],
   "metadata": {}
  },
  {
   "cell_type": "markdown",
   "source": [
    "You see three rows each representing a single flight with different information in each column."
   ],
   "metadata": {}
  },
  {
   "cell_type": "markdown",
   "source": [
    "# 2. Download csv file\n",
    "\n",
    "In the following, you are going to download a csv file containing additional flight data from [this website](https://transtats.bts.gov).    \n",
    "You can specify, which data you want to download.  \n",
    "We want you to choose a specific month in a specific year for your download.  \n",
    "In order to avoid everybody's downloading the same data, first check which months are already available in the ny_flights table:"
   ],
   "metadata": {}
  },
  {
   "cell_type": "code",
   "execution_count": 13,
   "source": [
    "#First, check which months are not in the database yet.\n",
    "months = engine.execute('select distinct(year, month) from ny_flights').fetchall()\n",
    "months"
   ],
   "outputs": [
    {
     "data": {
      "text/plain": [
       "[('(2018,9)',),\n",
       " ('(2019,1)',),\n",
       " ('(2019,2)',),\n",
       " ('(2019,3)',),\n",
       " ('(2019,4)',),\n",
       " ('(2019,5)',),\n",
       " ('(2019,6)',),\n",
       " ('(2019,7)',),\n",
       " ('(2019,8)',),\n",
       " ('(2019,9)',),\n",
       " ('(2019,10)',),\n",
       " ('(2019,11)',),\n",
       " ('(2019,12)',),\n",
       " ('(2020,1)',),\n",
       " ('(2020,2)',),\n",
       " ('(2020,3)',),\n",
       " ('(2020,4)',),\n",
       " ('(2020,5)',),\n",
       " ('(2020,6)',),\n",
       " ('(2020,7)',),\n",
       " ('(2020,8)',),\n",
       " ('(2020,9)',),\n",
       " ('(2020,10)',),\n",
       " ('(2020,11)',),\n",
       " ('(2020,12)',)]"
      ]
     },
     "metadata": {},
     "output_type": "display_data"
    }
   ],
   "metadata": {}
  },
  {
   "cell_type": "markdown",
   "source": [
    "Now, choose a month/year that is not yet in the database.  \n",
    "With the following command lines, you will download a csv file on public flight data from [this website](https://transtats.bts.gov) containing data of your chosen month/year.    \n",
    "The file will be stored in a data folder."
   ],
   "metadata": {}
  },
  {
   "cell_type": "code",
   "execution_count": 15,
   "source": [
    "import requests\n",
    "from zipfile import *\n",
    "\n",
    "years = [2021] # list of years you want to look at, specify one year\n",
    "months = [1] # list of months you want to look at, specify one month\n",
    "# Here: September 2018 which is in the list already\n",
    "path ='data/' # Specifies path for saving file\n",
    "\n",
    "# Loop through months\n",
    "for year in years:\n",
    "    for month in months:\n",
    "        # Get the file from the website https://transtats.bts.gov\n",
    "        zip_file = f'On_Time_Reporting_Carrier_On_Time_Performance_1987_present_{year}_{month}.zip'\n",
    "        csv_file = f'On_Time_Reporting_Carrier_On_Time_Performance_(1987_present)_{year}_{month}.csv'\n",
    "        url = (f'https://transtats.bts.gov/PREZIP/{zip_file}')\n",
    "        arg = f' -P {path} --no-check-certificate'\n",
    "        # Use the wget Module to download the file. The method accepts two parameters: the URL path of the file to download and local path where the file is to be stored.\n",
    "        !wget {url}{arg} "
   ],
   "outputs": [
    {
     "output_type": "stream",
     "name": "stdout",
     "text": [
      "--2021-07-15 11:32:42--  https://transtats.bts.gov/PREZIP/On_Time_Reporting_Carrier_On_Time_Performance_1987_present_2021_1.zip\n",
      "Resolving transtats.bts.gov... 204.68.194.70\n",
      "Connecting to transtats.bts.gov|204.68.194.70|:443... connected.\n",
      "WARNING: cannot verify transtats.bts.gov's certificate, issued by 'CN=Entrust Certification Authority - L1K,OU=(c) 2012 Entrust\\\\, Inc. - for authorized use only,OU=See www.entrust.net/legal-terms,O=Entrust\\\\, Inc.,C=US':\n",
      "  Unable to locally verify the issuer's authority.\n",
      "HTTP request sent, awaiting response... 200 OK\n",
      "Length: 17937103 (17M) [application/x-zip-compressed]\n",
      "Saving to: 'data/On_Time_Reporting_Carrier_On_Time_Performance_1987_present_2021_1.zip.2'\n",
      "\n",
      "On_Time_Reporting_C 100%[===================>]  17.11M   864KB/s    in 22s     \n",
      "\n",
      "2021-07-15 11:33:05 (801 KB/s) - 'data/On_Time_Reporting_Carrier_On_Time_Performance_1987_present_2021_1.zip.2' saved [17937103/17937103]\n",
      "\n"
     ]
    }
   ],
   "metadata": {}
  },
  {
   "cell_type": "code",
   "execution_count": 6,
   "source": [
    "# Unzip your file\n",
    "with ZipFile(path+zip_file, 'r') as zip_ref:\n",
    "    zip_ref.extractall(path)\n",
    "    \n",
    "# In casee this does not work for you try:\n",
    "# Instead of 'from zipfile import *' use 'import zipfile' and use 'with zipfile.ZipFile(path+zip_file, 'r')'"
   ],
   "outputs": [],
   "metadata": {}
  },
  {
   "cell_type": "code",
   "execution_count": 19,
   "source": [
    "# Read in your data\n",
    "df = pd.read_csv(path+csv_file, low_memory = False)\n",
    "df.head()"
   ],
   "outputs": [
    {
     "data": {
      "text/plain": [
       "   Year  Quarter  Month  DayofMonth  DayOfWeek  FlightDate Reporting_Airline  \\\n",
       "0  2021        1      1           2          6  2021-01-02                9E   \n",
       "1  2021        1      1           3          7  2021-01-03                9E   \n",
       "2  2021        1      1           4          1  2021-01-04                9E   \n",
       "3  2021        1      1           7          4  2021-01-07                9E   \n",
       "4  2021        1      1           8          5  2021-01-08                9E   \n",
       "\n",
       "   DOT_ID_Reporting_Airline IATA_CODE_Reporting_Airline Tail_Number  ...  \\\n",
       "0                     20363                          9E      N337PQ  ...   \n",
       "1                     20363                          9E      N607LR  ...   \n",
       "2                     20363                          9E      N602LR  ...   \n",
       "3                     20363                          9E      N295PQ  ...   \n",
       "4                     20363                          9E      N324PQ  ...   \n",
       "\n",
       "   Div4TailNum  Div5Airport  Div5AirportID  Div5AirportSeqID Div5WheelsOn  \\\n",
       "0          NaN          NaN            NaN               NaN          NaN   \n",
       "1          NaN          NaN            NaN               NaN          NaN   \n",
       "2          NaN          NaN            NaN               NaN          NaN   \n",
       "3          NaN          NaN            NaN               NaN          NaN   \n",
       "4          NaN          NaN            NaN               NaN          NaN   \n",
       "\n",
       "  Div5TotalGTime Div5LongestGTime  Div5WheelsOff Div5TailNum  Unnamed: 109  \n",
       "0            NaN              NaN            NaN         NaN           NaN  \n",
       "1            NaN              NaN            NaN         NaN           NaN  \n",
       "2            NaN              NaN            NaN         NaN           NaN  \n",
       "3            NaN              NaN            NaN         NaN           NaN  \n",
       "4            NaN              NaN            NaN         NaN           NaN  \n",
       "\n",
       "[5 rows x 110 columns]"
      ],
      "text/html": [
       "<div>\n",
       "<style scoped>\n",
       "    .dataframe tbody tr th:only-of-type {\n",
       "        vertical-align: middle;\n",
       "    }\n",
       "\n",
       "    .dataframe tbody tr th {\n",
       "        vertical-align: top;\n",
       "    }\n",
       "\n",
       "    .dataframe thead th {\n",
       "        text-align: right;\n",
       "    }\n",
       "</style>\n",
       "<table border=\"1\" class=\"dataframe\">\n",
       "  <thead>\n",
       "    <tr style=\"text-align: right;\">\n",
       "      <th></th>\n",
       "      <th>Year</th>\n",
       "      <th>Quarter</th>\n",
       "      <th>Month</th>\n",
       "      <th>DayofMonth</th>\n",
       "      <th>DayOfWeek</th>\n",
       "      <th>FlightDate</th>\n",
       "      <th>Reporting_Airline</th>\n",
       "      <th>DOT_ID_Reporting_Airline</th>\n",
       "      <th>IATA_CODE_Reporting_Airline</th>\n",
       "      <th>Tail_Number</th>\n",
       "      <th>...</th>\n",
       "      <th>Div4TailNum</th>\n",
       "      <th>Div5Airport</th>\n",
       "      <th>Div5AirportID</th>\n",
       "      <th>Div5AirportSeqID</th>\n",
       "      <th>Div5WheelsOn</th>\n",
       "      <th>Div5TotalGTime</th>\n",
       "      <th>Div5LongestGTime</th>\n",
       "      <th>Div5WheelsOff</th>\n",
       "      <th>Div5TailNum</th>\n",
       "      <th>Unnamed: 109</th>\n",
       "    </tr>\n",
       "  </thead>\n",
       "  <tbody>\n",
       "    <tr>\n",
       "      <th>0</th>\n",
       "      <td>2021</td>\n",
       "      <td>1</td>\n",
       "      <td>1</td>\n",
       "      <td>2</td>\n",
       "      <td>6</td>\n",
       "      <td>2021-01-02</td>\n",
       "      <td>9E</td>\n",
       "      <td>20363</td>\n",
       "      <td>9E</td>\n",
       "      <td>N337PQ</td>\n",
       "      <td>...</td>\n",
       "      <td>NaN</td>\n",
       "      <td>NaN</td>\n",
       "      <td>NaN</td>\n",
       "      <td>NaN</td>\n",
       "      <td>NaN</td>\n",
       "      <td>NaN</td>\n",
       "      <td>NaN</td>\n",
       "      <td>NaN</td>\n",
       "      <td>NaN</td>\n",
       "      <td>NaN</td>\n",
       "    </tr>\n",
       "    <tr>\n",
       "      <th>1</th>\n",
       "      <td>2021</td>\n",
       "      <td>1</td>\n",
       "      <td>1</td>\n",
       "      <td>3</td>\n",
       "      <td>7</td>\n",
       "      <td>2021-01-03</td>\n",
       "      <td>9E</td>\n",
       "      <td>20363</td>\n",
       "      <td>9E</td>\n",
       "      <td>N607LR</td>\n",
       "      <td>...</td>\n",
       "      <td>NaN</td>\n",
       "      <td>NaN</td>\n",
       "      <td>NaN</td>\n",
       "      <td>NaN</td>\n",
       "      <td>NaN</td>\n",
       "      <td>NaN</td>\n",
       "      <td>NaN</td>\n",
       "      <td>NaN</td>\n",
       "      <td>NaN</td>\n",
       "      <td>NaN</td>\n",
       "    </tr>\n",
       "    <tr>\n",
       "      <th>2</th>\n",
       "      <td>2021</td>\n",
       "      <td>1</td>\n",
       "      <td>1</td>\n",
       "      <td>4</td>\n",
       "      <td>1</td>\n",
       "      <td>2021-01-04</td>\n",
       "      <td>9E</td>\n",
       "      <td>20363</td>\n",
       "      <td>9E</td>\n",
       "      <td>N602LR</td>\n",
       "      <td>...</td>\n",
       "      <td>NaN</td>\n",
       "      <td>NaN</td>\n",
       "      <td>NaN</td>\n",
       "      <td>NaN</td>\n",
       "      <td>NaN</td>\n",
       "      <td>NaN</td>\n",
       "      <td>NaN</td>\n",
       "      <td>NaN</td>\n",
       "      <td>NaN</td>\n",
       "      <td>NaN</td>\n",
       "    </tr>\n",
       "    <tr>\n",
       "      <th>3</th>\n",
       "      <td>2021</td>\n",
       "      <td>1</td>\n",
       "      <td>1</td>\n",
       "      <td>7</td>\n",
       "      <td>4</td>\n",
       "      <td>2021-01-07</td>\n",
       "      <td>9E</td>\n",
       "      <td>20363</td>\n",
       "      <td>9E</td>\n",
       "      <td>N295PQ</td>\n",
       "      <td>...</td>\n",
       "      <td>NaN</td>\n",
       "      <td>NaN</td>\n",
       "      <td>NaN</td>\n",
       "      <td>NaN</td>\n",
       "      <td>NaN</td>\n",
       "      <td>NaN</td>\n",
       "      <td>NaN</td>\n",
       "      <td>NaN</td>\n",
       "      <td>NaN</td>\n",
       "      <td>NaN</td>\n",
       "    </tr>\n",
       "    <tr>\n",
       "      <th>4</th>\n",
       "      <td>2021</td>\n",
       "      <td>1</td>\n",
       "      <td>1</td>\n",
       "      <td>8</td>\n",
       "      <td>5</td>\n",
       "      <td>2021-01-08</td>\n",
       "      <td>9E</td>\n",
       "      <td>20363</td>\n",
       "      <td>9E</td>\n",
       "      <td>N324PQ</td>\n",
       "      <td>...</td>\n",
       "      <td>NaN</td>\n",
       "      <td>NaN</td>\n",
       "      <td>NaN</td>\n",
       "      <td>NaN</td>\n",
       "      <td>NaN</td>\n",
       "      <td>NaN</td>\n",
       "      <td>NaN</td>\n",
       "      <td>NaN</td>\n",
       "      <td>NaN</td>\n",
       "      <td>NaN</td>\n",
       "    </tr>\n",
       "  </tbody>\n",
       "</table>\n",
       "<p>5 rows × 110 columns</p>\n",
       "</div>"
      ]
     },
     "metadata": {},
     "output_type": "display_data"
    }
   ],
   "metadata": {}
  },
  {
   "cell_type": "code",
   "execution_count": 10,
   "source": [
    "df.shape"
   ],
   "outputs": [
    {
     "output_type": "error",
     "ename": "NameError",
     "evalue": "name 'df' is not defined",
     "traceback": [
      "\u001b[0;31m---------------------------------------------------------------------------\u001b[0m\n",
      "\u001b[0;31mNameError\u001b[0m                                 Traceback (most recent call last)\n",
      "\u001b[0;32m<ipython-input-10-633337079cd0>\u001b[0m in \u001b[0;36m<module>\u001b[0;34m\u001b[0m\n",
      "\u001b[0;32m----> 1\u001b[0;31m \u001b[0mdf\u001b[0m\u001b[0;34m.\u001b[0m\u001b[0mshape\u001b[0m\u001b[0;34m\u001b[0m\u001b[0;34m\u001b[0m\u001b[0m\n",
      "\u001b[0m\n",
      "\u001b[0;31mNameError\u001b[0m: name 'df' is not defined"
     ]
    }
   ],
   "metadata": {}
  },
  {
   "cell_type": "markdown",
   "source": [
    "# 3. Prepare the csv file for further processing"
   ],
   "metadata": {}
  },
  {
   "cell_type": "markdown",
   "source": [
    "In the next step, we clean and prepare our dataset."
   ],
   "metadata": {}
  },
  {
   "cell_type": "markdown",
   "source": [
    "a) Since the dataset consists of a lot of columns, we we define which ones to keep."
   ],
   "metadata": {}
  },
  {
   "cell_type": "code",
   "execution_count": 21,
   "source": [
    "# Columns from downloaded file that are to be kept\n",
    "columns_to_keep = ['FlightDate',\n",
    "                   'DepTime',\n",
    "                   'CRSDepTime',\n",
    "                   'DepDelay',\n",
    "                   'ArrTime',\n",
    "                   'CRSArrTime',\n",
    "                   'ArrDelay',\n",
    "                   'Reporting_Airline',\n",
    "                   'Tail_Number',\n",
    "                   'Flight_Number_Reporting_Airline',\n",
    "                   'Origin',\n",
    "                   'Dest',\n",
    "                   'AirTime',\n",
    "                   'Distance',\n",
    "                   'Cancelled',\n",
    "                   'Diverted']"
   ],
   "outputs": [],
   "metadata": {}
  },
  {
   "cell_type": "code",
   "execution_count": 5,
   "source": [
    "# The columns in the DB have different naming as in the source csv files. Lets get the names from the DB\n",
    "table_name_sql = \"SELECT COLUMN_NAME FROM INFORMATION_SCHEMA.COLUMNS WHERE TABLE_NAME = 'ny_flights' ORDER BY ordinal_position\"\n",
    "c_names = engine.execute(table_name_sql).fetchall()\n",
    "print(c_names)"
   ],
   "outputs": [
    {
     "data": {
      "text/plain": [
       "[('flight_date',),\n",
       " ('dep_time',),\n",
       " ('sched_dep_time',),\n",
       " ('dep_delay',),\n",
       " ('arr_time',),\n",
       " ('sched_arr_time',),\n",
       " ('arr_delay',),\n",
       " ('airline',),\n",
       " ('tail_number',),\n",
       " ('flight_number',),\n",
       " ('origin',),\n",
       " ('dest',),\n",
       " ('air_time',),\n",
       " ('distance',),\n",
       " ('cancelled',),\n",
       " ('diverted',)]"
      ]
     },
     "metadata": {},
     "output_type": "display_data"
    }
   ],
   "metadata": {}
  },
  {
   "cell_type": "code",
   "execution_count": 7,
   "source": [
    "# we can clean up the results into a clean list\n",
    "new_column_names = []\n",
    "for name in c_names:\n",
    "    new_column_names.append(name[0])\n",
    "print(new_column_names)"
   ],
   "outputs": [
    {
     "data": {
      "text/plain": [
       "['flight_date',\n",
       " 'dep_time',\n",
       " 'sched_dep_time',\n",
       " 'dep_delay',\n",
       " 'arr_time',\n",
       " 'sched_arr_time',\n",
       " 'arr_delay',\n",
       " 'airline',\n",
       " 'tail_number',\n",
       " 'flight_number',\n",
       " 'origin',\n",
       " 'dest',\n",
       " 'air_time',\n",
       " 'distance',\n",
       " 'cancelled',\n",
       " 'diverted']"
      ]
     },
     "metadata": {},
     "output_type": "display_data"
    }
   ],
   "metadata": {}
  },
  {
   "cell_type": "markdown",
   "source": [
    "b) With the next function, we make our csv file ready to be uploaded to SQL.  \n",
    "We only keep to above specified columns and convert the datatypes."
   ],
   "metadata": {}
  },
  {
   "cell_type": "code",
   "execution_count": 8,
   "source": [
    "def clean_airline_df(df):\n",
    "    '''\n",
    "    Transforms a df made from BTS csv file into a df that is ready to be uploaded to SQL\n",
    "    Set rows=0 for no filtering\n",
    "    '''\n",
    "\n",
    "    # Build dataframe including only the columns you want to keep\n",
    "    df_airline = df.loc[:,columns_to_keep]\n",
    "     \n",
    "    # Clean data types and NULLs\n",
    "    df_airline['FlightDate']= pd.to_datetime(df_airline['FlightDate'], yearfirst=True)\n",
    "    df_airline['CRSArrTime']= pd.to_numeric(df_airline['CRSArrTime'], downcast='integer', errors='coerce')\n",
    "    df_airline['Cancelled']= pd.to_numeric(df_airline['Cancelled'], downcast='integer')\n",
    "    df_airline['Diverted']= pd.to_numeric(df_airline['Diverted'], downcast='integer')\n",
    "    \n",
    "    # Rename columns\n",
    "    df_airline.columns = new_column_names\n",
    "    \n",
    "    return df_airline"
   ],
   "outputs": [],
   "metadata": {}
  },
  {
   "cell_type": "code",
   "execution_count": 9,
   "source": [
    "# Call function and check resulting dataframe\n",
    "df_clean = clean_airline_df(df)\n",
    "df_clean.head()"
   ],
   "outputs": [
    {
     "output_type": "error",
     "ename": "NameError",
     "evalue": "name 'df' is not defined",
     "traceback": [
      "\u001b[0;31m---------------------------------------------------------------------------\u001b[0m\n",
      "\u001b[0;31mNameError\u001b[0m                                 Traceback (most recent call last)\n",
      "\u001b[0;32m<ipython-input-9-6663cfcdbe19>\u001b[0m in \u001b[0;36m<module>\u001b[0;34m\u001b[0m\n",
      "\u001b[1;32m      1\u001b[0m \u001b[0;31m# Call function and check resulting dataframe\u001b[0m\u001b[0;34m\u001b[0m\u001b[0;34m\u001b[0m\u001b[0;34m\u001b[0m\u001b[0m\n",
      "\u001b[0;32m----> 2\u001b[0;31m \u001b[0mdf_clean\u001b[0m \u001b[0;34m=\u001b[0m \u001b[0mclean_airline_df\u001b[0m\u001b[0;34m(\u001b[0m\u001b[0mdf\u001b[0m\u001b[0;34m)\u001b[0m\u001b[0;34m\u001b[0m\u001b[0;34m\u001b[0m\u001b[0m\n",
      "\u001b[0m\u001b[1;32m      3\u001b[0m \u001b[0mdf_clean\u001b[0m\u001b[0;34m.\u001b[0m\u001b[0mhead\u001b[0m\u001b[0;34m(\u001b[0m\u001b[0;34m)\u001b[0m\u001b[0;34m\u001b[0m\u001b[0;34m\u001b[0m\u001b[0m\n",
      "\n",
      "\u001b[0;31mNameError\u001b[0m: name 'df' is not defined"
     ]
    }
   ],
   "metadata": {}
  },
  {
   "cell_type": "markdown",
   "source": [
    "If you decide to only look at specific airports, it is a good decision to filter for them in advance.  \n",
    "This function does the filtering. "
   ],
   "metadata": {}
  },
  {
   "cell_type": "code",
   "execution_count": 36,
   "source": [
    "# Specify the airports you are interested in and put them as a list in the function.\n",
    "def select_airport(df, airports):\n",
    "    ''' Helper function for filtering airline df for a subset of airports'''\n",
    "    df_out = df.loc[(df.origin.isin(airports)) | (df.dest.isin(airports))]\n",
    "    return df_out"
   ],
   "outputs": [],
   "metadata": {}
  },
  {
   "cell_type": "code",
   "execution_count": 26,
   "source": [
    "# Execute function, not filtering for any specific airports\n",
    "airports=[]\n",
    "if len(airports) > 0:\n",
    "    df_airline = select_airport(df_clean, airports)\n",
    "else:\n",
    "    df_airline = df_clean\n",
    "    \n",
    "df_airline.head()"
   ],
   "outputs": [
    {
     "data": {
      "text/plain": [
       "  flight_date  dep_time  sched_dep_time  dep_delay  arr_time  sched_arr_time  \\\n",
       "0  2021-01-02     733.0             730        3.0     927.0             939   \n",
       "1  2021-01-03     727.0             730       -3.0     924.0             939   \n",
       "2  2021-01-04     737.0             730        7.0     938.0             939   \n",
       "3  2021-01-07    1710.0            1715       -5.0    1911.0            1912   \n",
       "4  2021-01-08    1711.0            1715       -4.0    1926.0            1912   \n",
       "\n",
       "   arr_delay airline tail_number  flight_number origin dest  air_time  \\\n",
       "0      -12.0      9E      N337PQ           4628    CVG  BOS      89.0   \n",
       "1      -15.0      9E      N607LR           4628    CVG  BOS      97.0   \n",
       "2       -1.0      9E      N602LR           4628    CVG  BOS     103.0   \n",
       "3       -1.0      9E      N295PQ           4628    CVG  BOS     104.0   \n",
       "4       14.0      9E      N324PQ           4628    CVG  BOS     106.0   \n",
       "\n",
       "   distance  cancelled  diverted  \n",
       "0     752.0          0         0  \n",
       "1     752.0          0         0  \n",
       "2     752.0          0         0  \n",
       "3     752.0          0         0  \n",
       "4     752.0          0         0  "
      ],
      "text/html": [
       "<div>\n",
       "<style scoped>\n",
       "    .dataframe tbody tr th:only-of-type {\n",
       "        vertical-align: middle;\n",
       "    }\n",
       "\n",
       "    .dataframe tbody tr th {\n",
       "        vertical-align: top;\n",
       "    }\n",
       "\n",
       "    .dataframe thead th {\n",
       "        text-align: right;\n",
       "    }\n",
       "</style>\n",
       "<table border=\"1\" class=\"dataframe\">\n",
       "  <thead>\n",
       "    <tr style=\"text-align: right;\">\n",
       "      <th></th>\n",
       "      <th>flight_date</th>\n",
       "      <th>dep_time</th>\n",
       "      <th>sched_dep_time</th>\n",
       "      <th>dep_delay</th>\n",
       "      <th>arr_time</th>\n",
       "      <th>sched_arr_time</th>\n",
       "      <th>arr_delay</th>\n",
       "      <th>airline</th>\n",
       "      <th>tail_number</th>\n",
       "      <th>flight_number</th>\n",
       "      <th>origin</th>\n",
       "      <th>dest</th>\n",
       "      <th>air_time</th>\n",
       "      <th>distance</th>\n",
       "      <th>cancelled</th>\n",
       "      <th>diverted</th>\n",
       "    </tr>\n",
       "  </thead>\n",
       "  <tbody>\n",
       "    <tr>\n",
       "      <th>0</th>\n",
       "      <td>2021-01-02</td>\n",
       "      <td>733.0</td>\n",
       "      <td>730</td>\n",
       "      <td>3.0</td>\n",
       "      <td>927.0</td>\n",
       "      <td>939</td>\n",
       "      <td>-12.0</td>\n",
       "      <td>9E</td>\n",
       "      <td>N337PQ</td>\n",
       "      <td>4628</td>\n",
       "      <td>CVG</td>\n",
       "      <td>BOS</td>\n",
       "      <td>89.0</td>\n",
       "      <td>752.0</td>\n",
       "      <td>0</td>\n",
       "      <td>0</td>\n",
       "    </tr>\n",
       "    <tr>\n",
       "      <th>1</th>\n",
       "      <td>2021-01-03</td>\n",
       "      <td>727.0</td>\n",
       "      <td>730</td>\n",
       "      <td>-3.0</td>\n",
       "      <td>924.0</td>\n",
       "      <td>939</td>\n",
       "      <td>-15.0</td>\n",
       "      <td>9E</td>\n",
       "      <td>N607LR</td>\n",
       "      <td>4628</td>\n",
       "      <td>CVG</td>\n",
       "      <td>BOS</td>\n",
       "      <td>97.0</td>\n",
       "      <td>752.0</td>\n",
       "      <td>0</td>\n",
       "      <td>0</td>\n",
       "    </tr>\n",
       "    <tr>\n",
       "      <th>2</th>\n",
       "      <td>2021-01-04</td>\n",
       "      <td>737.0</td>\n",
       "      <td>730</td>\n",
       "      <td>7.0</td>\n",
       "      <td>938.0</td>\n",
       "      <td>939</td>\n",
       "      <td>-1.0</td>\n",
       "      <td>9E</td>\n",
       "      <td>N602LR</td>\n",
       "      <td>4628</td>\n",
       "      <td>CVG</td>\n",
       "      <td>BOS</td>\n",
       "      <td>103.0</td>\n",
       "      <td>752.0</td>\n",
       "      <td>0</td>\n",
       "      <td>0</td>\n",
       "    </tr>\n",
       "    <tr>\n",
       "      <th>3</th>\n",
       "      <td>2021-01-07</td>\n",
       "      <td>1710.0</td>\n",
       "      <td>1715</td>\n",
       "      <td>-5.0</td>\n",
       "      <td>1911.0</td>\n",
       "      <td>1912</td>\n",
       "      <td>-1.0</td>\n",
       "      <td>9E</td>\n",
       "      <td>N295PQ</td>\n",
       "      <td>4628</td>\n",
       "      <td>CVG</td>\n",
       "      <td>BOS</td>\n",
       "      <td>104.0</td>\n",
       "      <td>752.0</td>\n",
       "      <td>0</td>\n",
       "      <td>0</td>\n",
       "    </tr>\n",
       "    <tr>\n",
       "      <th>4</th>\n",
       "      <td>2021-01-08</td>\n",
       "      <td>1711.0</td>\n",
       "      <td>1715</td>\n",
       "      <td>-4.0</td>\n",
       "      <td>1926.0</td>\n",
       "      <td>1912</td>\n",
       "      <td>14.0</td>\n",
       "      <td>9E</td>\n",
       "      <td>N324PQ</td>\n",
       "      <td>4628</td>\n",
       "      <td>CVG</td>\n",
       "      <td>BOS</td>\n",
       "      <td>106.0</td>\n",
       "      <td>752.0</td>\n",
       "      <td>0</td>\n",
       "      <td>0</td>\n",
       "    </tr>\n",
       "  </tbody>\n",
       "</table>\n",
       "</div>"
      ]
     },
     "metadata": {},
     "output_type": "display_data"
    }
   ],
   "metadata": {}
  },
  {
   "cell_type": "markdown",
   "source": [
    "# 4. Push the prepared data to a table in the database"
   ],
   "metadata": {}
  },
  {
   "cell_type": "code",
   "execution_count": 27,
   "source": [
    "# Specify which table within your database you want to push your data to. For our case, use the ny_flights table.\n",
    "# If the specified table doesn't exist yet, it will be created\n",
    "# With 'append', your data will be appended to the already existing data within the table ny_flights.\n",
    "# This will take a minute or two...\n",
    "\n",
    "table = 'ny_flights'\n",
    "\n",
    "# Sends your data to specified table, via the etablished connection\n",
    "df_airline.to_sql(table, engine, index=False, if_exists=\"append\", \n",
    "    method='multi', chunksize=5000)\n",
    "print(f'done uploading {year}-{month}')"
   ],
   "outputs": [
    {
     "output_type": "stream",
     "name": "stdout",
     "text": [
      "done uploading 2021-1\n"
     ]
    }
   ],
   "metadata": {}
  },
  {
   "cell_type": "markdown",
   "source": [
    "# 5. Use SQL to query data from the database"
   ],
   "metadata": {}
  },
  {
   "cell_type": "markdown",
   "source": [
    "### Tasks\n",
    "Having sent the data to the database, it is always good to check the results."
   ],
   "metadata": {}
  },
  {
   "cell_type": "markdown",
   "source": [
    "1. Check the top 5 rows of the ny_flights table (as we did above)"
   ],
   "metadata": {}
  },
  {
   "cell_type": "code",
   "execution_count": null,
   "source": [],
   "outputs": [],
   "metadata": {}
  },
  {
   "cell_type": "markdown",
   "source": [
    "2. Check if your data has been added by selecting your month and year."
   ],
   "metadata": {}
  },
  {
   "cell_type": "code",
   "execution_count": null,
   "source": [],
   "outputs": [],
   "metadata": {}
  },
  {
   "cell_type": "markdown",
   "source": [
    "3. See how many rows you have sent to the database by selecting your month and year in combination with count and group by."
   ],
   "metadata": {}
  },
  {
   "cell_type": "code",
   "execution_count": null,
   "source": [],
   "outputs": [],
   "metadata": {}
  },
  {
   "cell_type": "markdown",
   "source": [
    "# 6. Wrap-up"
   ],
   "metadata": {}
  },
  {
   "cell_type": "markdown",
   "source": [
    "The following function puts everything we did above together.  "
   ],
   "metadata": {}
  },
  {
   "cell_type": "code",
   "execution_count": 41,
   "source": [
    "def airline_csv_to_sql(years=[2020], months=[2], path ='data/', table='flights', airports=[]):\n",
    "    '''Downloads and unzips the flight data from BTS'''\n",
    "    \n",
    "    # Establish db connection\n",
    "    params = config(section='postgresql')\n",
    "    engine = pg_engine_connection(**params)\n",
    "    engine.dispose()\n",
    "\n",
    "    # Loop through months\n",
    "    for year in years:\n",
    "        for month in months:\n",
    "            # Get the file\n",
    "            zip_file = f'On_Time_Reporting_Carrier_On_Time_Performance_1987_present_{year}_{month}.zip'\n",
    "            csv_file = f'On_Time_Reporting_Carrier_On_Time_Performance_(1987_present)_{year}_{month}.csv'\n",
    "            url = (f'https://transtats.bts.gov/PREZIP/{zip_file}')\n",
    "            arg = f' -P {path} --no-check-certificate'\n",
    "            !wget {url}{arg} \n",
    "\n",
    "            # unzip\n",
    "            with ZipFile(path+zip_file, 'r') as zip_ref:\n",
    "                zip_ref.extractall(path)\n",
    "            \n",
    "            # prepare df\n",
    "            df_airline = pd.read_csv(path+csv_file, low_memory=False)\n",
    "            df_airline = clean_airline_df(df_airline)\n",
    "            \n",
    "            # Select specific airports \n",
    "            if len(airports) > 0:\n",
    "                df_airline = select_airport(df_airline, airports)\n",
    "\n",
    "            # to SQL\n",
    "            print(f'starting uploading {df_airline.shape[0]} rows from {year}-{month}')\n",
    "            df_airline.to_sql(table, engine, index=False, if_exists=\"append\", \n",
    "                  method='multi', chunksize=5000)\n",
    "            print(f'done uploading {year}-{month}')"
   ],
   "outputs": [],
   "metadata": {}
  },
  {
   "cell_type": "code",
   "execution_count": null,
   "source": [],
   "outputs": [],
   "metadata": {}
  }
 ],
 "metadata": {
  "orig_nbformat": 4,
  "language_info": {
   "name": "python"
  }
 },
 "nbformat": 4,
 "nbformat_minor": 2
}