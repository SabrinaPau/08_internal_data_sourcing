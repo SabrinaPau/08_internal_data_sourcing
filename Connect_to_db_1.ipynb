{
 "cells": [
  {
   "cell_type": "markdown",
   "id": "offshore-interstate",
   "metadata": {},
   "source": [
    "# Build connection, send data to database"
   ]
  },
  {
   "cell_type": "code",
   "execution_count": 1,
   "id": "ignored-google",
   "metadata": {},
   "outputs": [
    {
     "data": {
      "text/html": [
       "<img src=\"https://gcn.com/articles/2017/12/05/-/media/GIG/GCN/Redesign/Articles/2017/December/flightdata.png\" width=\"800\"/>"
      ],
      "text/plain": [
       "<IPython.core.display.Image object>"
      ]
     },
     "execution_count": 1,
     "metadata": {},
     "output_type": "execute_result"
    }
   ],
   "source": [
    "from IPython.display import Image\n",
    "from IPython.core.display import HTML \n",
    "Image(url= \"https://gcn.com/articles/2017/12/05/-/media/GIG/GCN/Redesign/Articles/2017/December/flightdata.png\", width = 800)"
   ]
  },
  {
   "cell_type": "markdown",
   "id": "integrated-stephen",
   "metadata": {},
   "source": [
    "**In this notebook, we will**\n",
    "1. Set up a connection to a SQL database \n",
    "2. Download a csv file\n",
    "3. Prepare the data for further processing\n",
    "4. Push the prepared data to a table in the database\n",
    "5. Use SQL to query data from the database\n",
    "\n"
   ]
  },
  {
   "cell_type": "code",
   "execution_count": 2,
   "id": "average-chinese",
   "metadata": {},
   "outputs": [],
   "source": [
    "# Import all necessary libraries\n",
    "import pandas as pd\n",
    "import numpy as np\n",
    "import requests\n",
    "from zipfile import *\n",
    "from configdef import *\n",
    "from sqlalchemy import exc #SQLAlchemy provides a nice “Pythonic” way of interacting with databases.\n",
    "from sqlalchemy import event"
   ]
  },
  {
   "cell_type": "markdown",
   "id": "inappropriate-satisfaction",
   "metadata": {},
   "source": [
    "We will go through this workflow step by step before we include all single steps into one, big, main function which does all the steps at once.  \n",
    "For our puropse, we will use public **flight data**. "
   ]
  },
  {
   "cell_type": "markdown",
   "id": "standing-instrument",
   "metadata": {},
   "source": [
    "# 1. Set up a connection to a SQL database"
   ]
  },
  {
   "cell_type": "markdown",
   "id": "racial-shore",
   "metadata": {},
   "source": [
    "We start with connecting to an existing sql database, so that we can check what is already there and to send data to a table in the database later on."
   ]
  },
  {
   "cell_type": "code",
   "execution_count": 3,
   "id": "macro-kazakhstan",
   "metadata": {},
   "outputs": [
    {
     "name": "stdout",
     "output_type": "stream",
     "text": [
      "Postgres Database connection successful\n"
     ]
    }
   ],
   "source": [
    "# Establish db connection\n",
    "\n",
    "# Get connection details from configdef file into a list\n",
    "params = config(section='postgres')\n",
    "\n",
    "# Use sql alchemy to create connection to database, which is contained within the engine object\n",
    "engine = pg_engine_connection(**params)\n",
    "\n",
    "# Cleans up unnecessary database connections\n",
    "engine.dispose()"
   ]
  },
  {
   "cell_type": "markdown",
   "id": "australian-washer",
   "metadata": {},
   "source": [
    "Now, you can query data from a table in the database you are connected to.  \n",
    "We are working with the table called nyflights, which contains data from 2019 and 2020 of the three New York airports (JFK, LGA and EWR).  \n",
    "Get an overview of this table by querying the top three rows."
   ]
  },
  {
   "cell_type": "markdown",
   "id": "traditional-disney",
   "metadata": {},
   "source": [
    "With ```engine.execute('sql query')``` you create an object:"
   ]
  },
  {
   "cell_type": "code",
   "execution_count": 12,
   "id": "about-prospect",
   "metadata": {},
   "outputs": [
    {
     "data": {
      "text/plain": [
       "<sqlalchemy.engine.result.ResultProxy at 0x7ff90ae0c1f0>"
      ]
     },
     "execution_count": 12,
     "metadata": {},
     "output_type": "execute_result"
    }
   ],
   "source": [
    "engine.execute('select * from nyflights limit 3')"
   ]
  },
  {
   "cell_type": "markdown",
   "id": "peripheral-resistance",
   "metadata": {},
   "source": [
    "Using ```.fetchall()``` you can access the data you asked for in your query:"
   ]
  },
  {
   "cell_type": "code",
   "execution_count": 11,
   "id": "genetic-album",
   "metadata": {},
   "outputs": [
    {
     "data": {
      "text/plain": [
       "[(2019, 10, 23, datetime.datetime(2019, 10, 23, 0, 0), 931.0, 936, -5.0, 1147.0, 1152, -5.0, '9E', 'N907XJ', 3475, 'LGA', 'TYS', 103.0, 648.0, 0, 0),\n",
       " (2019, 10, 24, datetime.datetime(2019, 10, 24, 0, 0), 943.0, 936, 7.0, 1151.0, 1153, -2.0, '9E', 'N606LR', 3475, 'LGA', 'TYS', 101.0, 648.0, 0, 0),\n",
       " (2019, 10, 25, datetime.datetime(2019, 10, 25, 0, 0), 935.0, 936, -1.0, 1144.0, 1153, -9.0, '9E', 'N914XJ', 3475, 'LGA', 'TYS', 105.0, 648.0, 0, 0)]"
      ]
     },
     "metadata": {},
     "output_type": "display_data"
    }
   ],
   "source": [
    "result = engine.execute('select * from nyflights limit 3').fetchall()\n",
    "display(result)"
   ]
  },
  {
   "cell_type": "markdown",
   "id": "cutting-filling",
   "metadata": {},
   "source": [
    "You see three rows each representing a single flight with different information in each column."
   ]
  },
  {
   "cell_type": "markdown",
   "id": "clear-lancaster",
   "metadata": {},
   "source": [
    "# 2. Download csv file"
   ]
  },
  {
   "cell_type": "markdown",
   "id": "arctic-momentum",
   "metadata": {},
   "source": [
    "In the following, you are going to download a csv file containing additional flight data from [this website](https://transtats.bts.gov).    \n",
    "You can specify, which data you want to download.  \n",
    "We want you to choose a specific month in a specific year for your download.  \n",
    "In order to avoid everybody's downloading the same data, first check which months are already available in the nyflights table:"
   ]
  },
  {
   "cell_type": "code",
   "execution_count": 13,
   "id": "resistant-attention",
   "metadata": {},
   "outputs": [
    {
     "data": {
      "text/plain": [
       "[('(2018,9)',),\n",
       " ('(2019,1)',),\n",
       " ('(2019,2)',),\n",
       " ('(2019,3)',),\n",
       " ('(2019,4)',),\n",
       " ('(2019,5)',),\n",
       " ('(2019,6)',),\n",
       " ('(2019,7)',),\n",
       " ('(2019,8)',),\n",
       " ('(2019,9)',),\n",
       " ('(2019,10)',),\n",
       " ('(2019,11)',),\n",
       " ('(2019,12)',),\n",
       " ('(2020,1)',),\n",
       " ('(2020,2)',),\n",
       " ('(2020,3)',),\n",
       " ('(2020,4)',),\n",
       " ('(2020,5)',),\n",
       " ('(2020,6)',),\n",
       " ('(2020,7)',),\n",
       " ('(2020,8)',),\n",
       " ('(2020,9)',),\n",
       " ('(2020,10)',),\n",
       " ('(2020,11)',),\n",
       " ('(2020,12)',)]"
      ]
     },
     "execution_count": 13,
     "metadata": {},
     "output_type": "execute_result"
    }
   ],
   "source": [
    "#First, check which months are not in the database yet.\n",
    "months = engine.execute('select distinct(year, month) from nyflights').fetchall()\n",
    "months"
   ]
  },
  {
   "cell_type": "markdown",
   "id": "complex-repair",
   "metadata": {},
   "source": [
    "Now, choose a month/year that is not yet in the database.  \n",
    "With the following command lines, you will download a csv file on public flight data from [this website](https://transtats.bts.gov) containing data of your chosen month/year.    \n",
    "The file will be stored in a data folder."
   ]
  },
  {
   "cell_type": "code",
   "execution_count": 14,
   "id": "arranged-devil",
   "metadata": {},
   "outputs": [
    {
     "name": "stdout",
     "output_type": "stream",
     "text": [
      "--2021-03-29 14:28:00--  https://transtats.bts.gov/PREZIP/On_Time_Reporting_Carrier_On_Time_Performance_1987_present_2018_1.zip\n",
      "Resolving transtats.bts.gov... 204.68.194.70\n",
      "Connecting to transtats.bts.gov|204.68.194.70|:443... connected.\n",
      "WARNING: cannot verify transtats.bts.gov's certificate, issued by 'CN=Entrust Certification Authority - L1K,OU=(c) 2012 Entrust\\\\, Inc. - for authorized use only,OU=See www.entrust.net/legal-terms,O=Entrust\\\\, Inc.,C=US':\n",
      "  Unable to locally verify the issuer's authority.\n",
      "HTTP request sent, awaiting response... 200 OK\n",
      "Length: 29186677 (28M) [application/x-zip-compressed]\n",
      "Saving to: 'data/On_Time_Reporting_Carrier_On_Time_Performance_1987_present_2018_1.zip'\n",
      "\n",
      "On_Time_Reporting_C 100%[===================>]  27.83M   482KB/s    in 87s     \n",
      "\n",
      "2021-03-29 14:29:28 (327 KB/s) - 'data/On_Time_Reporting_Carrier_On_Time_Performance_1987_present_2018_1.zip' saved [29186677/29186677]\n",
      "\n"
     ]
    }
   ],
   "source": [
    "years = [2018] # list of years you want to look at, specify one year\n",
    "months = [9] # list of months you want to look at, specify one month\n",
    "# Here: September 2018 which is in the list already\n",
    "path ='data/' # Specifies path for saving file\n",
    "\n",
    "# Loop through months\n",
    "for year in years:\n",
    "    for month in months:\n",
    "        # Get the file from the website https://transtats.bts.gov\n",
    "        zip_file = f'On_Time_Reporting_Carrier_On_Time_Performance_1987_present_{year}_{month}.zip'\n",
    "        csv_file = f'On_Time_Reporting_Carrier_On_Time_Performance_(1987_present)_{year}_{month}.csv'\n",
    "        url = (f'https://transtats.bts.gov/PREZIP/{zip_file}')\n",
    "        arg = f' -P {path} --no-check-certificate'\n",
    "        # Use the wget Module to download the file. The method accepts two parameters: the URL path of the file to download and local path where the file is to be stored.\n",
    "        !wget {url}{arg} "
   ]
  },
  {
   "cell_type": "code",
   "execution_count": 32,
   "id": "lonely-state",
   "metadata": {},
   "outputs": [],
   "source": [
    "# Unzip your file\n",
    "with ZipFile(path+zip_file, 'r') as zip_ref:\n",
    "    zip_ref.extractall(path)\n",
    "    \n",
    "# In casee this does not work for you try:\n",
    "# Instead of 'from zipfile import *' use 'import zipfile' and use 'with zipfile.ZipFile(path+zip_file, 'r')'"
   ]
  },
  {
   "cell_type": "code",
   "execution_count": 33,
   "id": "infrared-reverse",
   "metadata": {},
   "outputs": [
    {
     "data": {
      "text/html": [
       "<div>\n",
       "<style scoped>\n",
       "    .dataframe tbody tr th:only-of-type {\n",
       "        vertical-align: middle;\n",
       "    }\n",
       "\n",
       "    .dataframe tbody tr th {\n",
       "        vertical-align: top;\n",
       "    }\n",
       "\n",
       "    .dataframe thead th {\n",
       "        text-align: right;\n",
       "    }\n",
       "</style>\n",
       "<table border=\"1\" class=\"dataframe\">\n",
       "  <thead>\n",
       "    <tr style=\"text-align: right;\">\n",
       "      <th></th>\n",
       "      <th>Year</th>\n",
       "      <th>Quarter</th>\n",
       "      <th>Month</th>\n",
       "      <th>DayofMonth</th>\n",
       "      <th>DayOfWeek</th>\n",
       "      <th>FlightDate</th>\n",
       "      <th>Reporting_Airline</th>\n",
       "      <th>DOT_ID_Reporting_Airline</th>\n",
       "      <th>IATA_CODE_Reporting_Airline</th>\n",
       "      <th>Tail_Number</th>\n",
       "      <th>...</th>\n",
       "      <th>Div4TailNum</th>\n",
       "      <th>Div5Airport</th>\n",
       "      <th>Div5AirportID</th>\n",
       "      <th>Div5AirportSeqID</th>\n",
       "      <th>Div5WheelsOn</th>\n",
       "      <th>Div5TotalGTime</th>\n",
       "      <th>Div5LongestGTime</th>\n",
       "      <th>Div5WheelsOff</th>\n",
       "      <th>Div5TailNum</th>\n",
       "      <th>Unnamed: 109</th>\n",
       "    </tr>\n",
       "  </thead>\n",
       "  <tbody>\n",
       "    <tr>\n",
       "      <th>0</th>\n",
       "      <td>2018</td>\n",
       "      <td>1</td>\n",
       "      <td>1</td>\n",
       "      <td>27</td>\n",
       "      <td>6</td>\n",
       "      <td>2018-01-27</td>\n",
       "      <td>UA</td>\n",
       "      <td>19977</td>\n",
       "      <td>UA</td>\n",
       "      <td>N26232</td>\n",
       "      <td>...</td>\n",
       "      <td>NaN</td>\n",
       "      <td>NaN</td>\n",
       "      <td>NaN</td>\n",
       "      <td>NaN</td>\n",
       "      <td>NaN</td>\n",
       "      <td>NaN</td>\n",
       "      <td>NaN</td>\n",
       "      <td>NaN</td>\n",
       "      <td>NaN</td>\n",
       "      <td>NaN</td>\n",
       "    </tr>\n",
       "    <tr>\n",
       "      <th>1</th>\n",
       "      <td>2018</td>\n",
       "      <td>1</td>\n",
       "      <td>1</td>\n",
       "      <td>27</td>\n",
       "      <td>6</td>\n",
       "      <td>2018-01-27</td>\n",
       "      <td>UA</td>\n",
       "      <td>19977</td>\n",
       "      <td>UA</td>\n",
       "      <td>N477UA</td>\n",
       "      <td>...</td>\n",
       "      <td>NaN</td>\n",
       "      <td>NaN</td>\n",
       "      <td>NaN</td>\n",
       "      <td>NaN</td>\n",
       "      <td>NaN</td>\n",
       "      <td>NaN</td>\n",
       "      <td>NaN</td>\n",
       "      <td>NaN</td>\n",
       "      <td>NaN</td>\n",
       "      <td>NaN</td>\n",
       "    </tr>\n",
       "    <tr>\n",
       "      <th>2</th>\n",
       "      <td>2018</td>\n",
       "      <td>1</td>\n",
       "      <td>1</td>\n",
       "      <td>27</td>\n",
       "      <td>6</td>\n",
       "      <td>2018-01-27</td>\n",
       "      <td>UA</td>\n",
       "      <td>19977</td>\n",
       "      <td>UA</td>\n",
       "      <td>N13720</td>\n",
       "      <td>...</td>\n",
       "      <td>NaN</td>\n",
       "      <td>NaN</td>\n",
       "      <td>NaN</td>\n",
       "      <td>NaN</td>\n",
       "      <td>NaN</td>\n",
       "      <td>NaN</td>\n",
       "      <td>NaN</td>\n",
       "      <td>NaN</td>\n",
       "      <td>NaN</td>\n",
       "      <td>NaN</td>\n",
       "    </tr>\n",
       "    <tr>\n",
       "      <th>3</th>\n",
       "      <td>2018</td>\n",
       "      <td>1</td>\n",
       "      <td>1</td>\n",
       "      <td>27</td>\n",
       "      <td>6</td>\n",
       "      <td>2018-01-27</td>\n",
       "      <td>UA</td>\n",
       "      <td>19977</td>\n",
       "      <td>UA</td>\n",
       "      <td>N16217</td>\n",
       "      <td>...</td>\n",
       "      <td>NaN</td>\n",
       "      <td>NaN</td>\n",
       "      <td>NaN</td>\n",
       "      <td>NaN</td>\n",
       "      <td>NaN</td>\n",
       "      <td>NaN</td>\n",
       "      <td>NaN</td>\n",
       "      <td>NaN</td>\n",
       "      <td>NaN</td>\n",
       "      <td>NaN</td>\n",
       "    </tr>\n",
       "    <tr>\n",
       "      <th>4</th>\n",
       "      <td>2018</td>\n",
       "      <td>1</td>\n",
       "      <td>1</td>\n",
       "      <td>27</td>\n",
       "      <td>6</td>\n",
       "      <td>2018-01-27</td>\n",
       "      <td>UA</td>\n",
       "      <td>19977</td>\n",
       "      <td>UA</td>\n",
       "      <td>N33714</td>\n",
       "      <td>...</td>\n",
       "      <td>NaN</td>\n",
       "      <td>NaN</td>\n",
       "      <td>NaN</td>\n",
       "      <td>NaN</td>\n",
       "      <td>NaN</td>\n",
       "      <td>NaN</td>\n",
       "      <td>NaN</td>\n",
       "      <td>NaN</td>\n",
       "      <td>NaN</td>\n",
       "      <td>NaN</td>\n",
       "    </tr>\n",
       "  </tbody>\n",
       "</table>\n",
       "<p>5 rows × 110 columns</p>\n",
       "</div>"
      ],
      "text/plain": [
       "   Year  Quarter  Month  DayofMonth  DayOfWeek  FlightDate Reporting_Airline  \\\n",
       "0  2018        1      1          27          6  2018-01-27                UA   \n",
       "1  2018        1      1          27          6  2018-01-27                UA   \n",
       "2  2018        1      1          27          6  2018-01-27                UA   \n",
       "3  2018        1      1          27          6  2018-01-27                UA   \n",
       "4  2018        1      1          27          6  2018-01-27                UA   \n",
       "\n",
       "   DOT_ID_Reporting_Airline IATA_CODE_Reporting_Airline Tail_Number  ...  \\\n",
       "0                     19977                          UA      N26232  ...   \n",
       "1                     19977                          UA      N477UA  ...   \n",
       "2                     19977                          UA      N13720  ...   \n",
       "3                     19977                          UA      N16217  ...   \n",
       "4                     19977                          UA      N33714  ...   \n",
       "\n",
       "   Div4TailNum  Div5Airport  Div5AirportID  Div5AirportSeqID Div5WheelsOn  \\\n",
       "0          NaN          NaN            NaN               NaN          NaN   \n",
       "1          NaN          NaN            NaN               NaN          NaN   \n",
       "2          NaN          NaN            NaN               NaN          NaN   \n",
       "3          NaN          NaN            NaN               NaN          NaN   \n",
       "4          NaN          NaN            NaN               NaN          NaN   \n",
       "\n",
       "  Div5TotalGTime Div5LongestGTime  Div5WheelsOff Div5TailNum  Unnamed: 109  \n",
       "0            NaN              NaN            NaN         NaN           NaN  \n",
       "1            NaN              NaN            NaN         NaN           NaN  \n",
       "2            NaN              NaN            NaN         NaN           NaN  \n",
       "3            NaN              NaN            NaN         NaN           NaN  \n",
       "4            NaN              NaN            NaN         NaN           NaN  \n",
       "\n",
       "[5 rows x 110 columns]"
      ]
     },
     "execution_count": 33,
     "metadata": {},
     "output_type": "execute_result"
    }
   ],
   "source": [
    "# Read in your data\n",
    "df = pd.read_csv(path+csv_file, low_memory = False)\n",
    "df.head()"
   ]
  },
  {
   "cell_type": "code",
   "execution_count": 34,
   "id": "optional-order",
   "metadata": {},
   "outputs": [
    {
     "data": {
      "text/plain": [
       "(570118, 110)"
      ]
     },
     "execution_count": 34,
     "metadata": {},
     "output_type": "execute_result"
    }
   ],
   "source": [
    "df.shape"
   ]
  },
  {
   "cell_type": "markdown",
   "id": "comparable-duration",
   "metadata": {},
   "source": [
    "# 3. Prepare the csv file for further processing"
   ]
  },
  {
   "cell_type": "markdown",
   "id": "sacred-basketball",
   "metadata": {},
   "source": [
    "In the next step, we clean and prepare our dataset."
   ]
  },
  {
   "cell_type": "markdown",
   "id": "frequent-purchase",
   "metadata": {},
   "source": [
    "a) Since the dataset consists of a lot of columns, we we define which ones to keep."
   ]
  },
  {
   "cell_type": "code",
   "execution_count": 31,
   "id": "municipal-frank",
   "metadata": {},
   "outputs": [],
   "source": [
    "# Columns from downloaded file that are to be kept\n",
    "\n",
    "columns_to_keep = [\n",
    "                'Year',\n",
    "                'Month',\n",
    "                'DayofMonth',\n",
    "                'FlightDate',\n",
    "                'DepTime',\n",
    "                'CRSDepTime',\n",
    "                'DepDelay',\n",
    "                'ArrTime',\n",
    "                'CRSArrTime',\n",
    "                'ArrDelay',\n",
    "                'Reporting_Airline',\n",
    "                'Tail_Number',\n",
    "                'Flight_Number_Reporting_Airline',\n",
    "                'Origin',\n",
    "                'Dest',\n",
    "                'AirTime',\n",
    "                'Distance',\n",
    "                'Cancelled',\n",
    "                'Diverted'\n",
    "]"
   ]
  },
  {
   "cell_type": "code",
   "execution_count": 28,
   "id": "assigned-squad",
   "metadata": {},
   "outputs": [
    {
     "data": {
      "text/plain": [
       "[('year',),\n",
       " ('month',),\n",
       " ('day',),\n",
       " ('flightdate',),\n",
       " ('dep_time',),\n",
       " ('sched_dep_time',),\n",
       " ('dep_delay',),\n",
       " ('arr_time',),\n",
       " ('sched_arr_time',),\n",
       " ('arr_delay',),\n",
       " ('carrier',),\n",
       " ('tailnum',),\n",
       " ('flight',),\n",
       " ('origin',),\n",
       " ('dest',),\n",
       " ('air_time',),\n",
       " ('distance',),\n",
       " ('cancelled',),\n",
       " ('diverted',)]"
      ]
     },
     "execution_count": 28,
     "metadata": {},
     "output_type": "execute_result"
    }
   ],
   "source": [
    "# The columns in the DB have different naming as in the source csv files. Lets get the names from the DB\n",
    "table_name_sql = \"SELECT COLUMN_NAME FROM INFORMATION_SCHEMA.COLUMNS WHERE TABLE_NAME = 'nyflights' ORDER BY ordinal_position\"\n",
    "c_names = engine.execute(table_name_sql).fetchall()\n",
    "c_names"
   ]
  },
  {
   "cell_type": "code",
   "execution_count": 26,
   "id": "israeli-decade",
   "metadata": {},
   "outputs": [
    {
     "data": {
      "text/plain": [
       "['year',\n",
       " 'month',\n",
       " 'day',\n",
       " 'flightdate',\n",
       " 'dep_time',\n",
       " 'sched_dep_time',\n",
       " 'dep_delay',\n",
       " 'arr_time',\n",
       " 'sched_arr_time',\n",
       " 'arr_delay',\n",
       " 'carrier',\n",
       " 'tailnum',\n",
       " 'flight',\n",
       " 'origin',\n",
       " 'dest',\n",
       " 'air_time',\n",
       " 'distance',\n",
       " 'cancelled',\n",
       " 'diverted']"
      ]
     },
     "execution_count": 26,
     "metadata": {},
     "output_type": "execute_result"
    }
   ],
   "source": [
    "# we can clean up the results into a clean list\n",
    "new_column_names=[]\n",
    "for name in c_names:\n",
    "    new_column_names.append(name[0])\n",
    "new_column_names        "
   ]
  },
  {
   "cell_type": "markdown",
   "id": "effective-series",
   "metadata": {},
   "source": [
    "b) With the next function, we make our csv file ready to be uploaded to SQL.  \n",
    "We only keep to above specified columns and convert the datatypes."
   ]
  },
  {
   "cell_type": "code",
   "execution_count": 29,
   "id": "rising-blowing",
   "metadata": {},
   "outputs": [],
   "source": [
    "def clean_airline_df(df):\n",
    "    '''\n",
    "    Transforms a df made from BTS csv file into a df that is ready to be uploaded to SQL\n",
    "    Set rows=0 for no filtering\n",
    "    '''\n",
    "\n",
    "    # Build dataframe including only the columns you want to keep\n",
    "    df_airline = df.loc[:,columns_to_keep]\n",
    "     \n",
    "    # Clean data types and NULLs\n",
    "    df_airline['Year']= pd.to_numeric(df_airline['Year'], downcast='integer')\n",
    "    df_airline['Month']= pd.to_numeric(df_airline['Month'], downcast='integer')\n",
    "    df_airline['DayofMonth']= pd.to_numeric(df_airline['DayofMonth'], downcast='integer')\n",
    "    df_airline['FlightDate']= pd.to_datetime(df_airline['FlightDate'], yearfirst=True)\n",
    "    df_airline['CRSArrTime']= pd.to_numeric(df_airline['CRSArrTime'], downcast='integer', errors='coerce')\n",
    "    df_airline['Cancelled']= pd.to_numeric(df_airline['Cancelled'], downcast='integer')\n",
    "    df_airline['Diverted']= pd.to_numeric(df_airline['Diverted'], downcast='integer')\n",
    "    \n",
    "    # Rename columns\n",
    "    df_airline.columns = new_column_names\n",
    "    \n",
    "    return df_airline"
   ]
  },
  {
   "cell_type": "code",
   "execution_count": 35,
   "id": "temporal-secret",
   "metadata": {},
   "outputs": [
    {
     "data": {
      "text/html": [
       "<div>\n",
       "<style scoped>\n",
       "    .dataframe tbody tr th:only-of-type {\n",
       "        vertical-align: middle;\n",
       "    }\n",
       "\n",
       "    .dataframe tbody tr th {\n",
       "        vertical-align: top;\n",
       "    }\n",
       "\n",
       "    .dataframe thead th {\n",
       "        text-align: right;\n",
       "    }\n",
       "</style>\n",
       "<table border=\"1\" class=\"dataframe\">\n",
       "  <thead>\n",
       "    <tr style=\"text-align: right;\">\n",
       "      <th></th>\n",
       "      <th>year</th>\n",
       "      <th>month</th>\n",
       "      <th>day</th>\n",
       "      <th>flightdate</th>\n",
       "      <th>dep_time</th>\n",
       "      <th>sched_dep_time</th>\n",
       "      <th>dep_delay</th>\n",
       "      <th>arr_time</th>\n",
       "      <th>sched_arr_time</th>\n",
       "      <th>arr_delay</th>\n",
       "      <th>carrier</th>\n",
       "      <th>tailnum</th>\n",
       "      <th>flight</th>\n",
       "      <th>origin</th>\n",
       "      <th>dest</th>\n",
       "      <th>air_time</th>\n",
       "      <th>distance</th>\n",
       "      <th>cancelled</th>\n",
       "      <th>diverted</th>\n",
       "    </tr>\n",
       "  </thead>\n",
       "  <tbody>\n",
       "    <tr>\n",
       "      <th>0</th>\n",
       "      <td>2018</td>\n",
       "      <td>1</td>\n",
       "      <td>27</td>\n",
       "      <td>2018-01-27</td>\n",
       "      <td>602.0</td>\n",
       "      <td>615</td>\n",
       "      <td>-13.0</td>\n",
       "      <td>756.0</td>\n",
       "      <td>808</td>\n",
       "      <td>-12.0</td>\n",
       "      <td>UA</td>\n",
       "      <td>N26232</td>\n",
       "      <td>369</td>\n",
       "      <td>FLL</td>\n",
       "      <td>IAH</td>\n",
       "      <td>148.0</td>\n",
       "      <td>966.0</td>\n",
       "      <td>0</td>\n",
       "      <td>0</td>\n",
       "    </tr>\n",
       "    <tr>\n",
       "      <th>1</th>\n",
       "      <td>2018</td>\n",
       "      <td>1</td>\n",
       "      <td>27</td>\n",
       "      <td>2018-01-27</td>\n",
       "      <td>614.0</td>\n",
       "      <td>618</td>\n",
       "      <td>-4.0</td>\n",
       "      <td>813.0</td>\n",
       "      <td>831</td>\n",
       "      <td>-18.0</td>\n",
       "      <td>UA</td>\n",
       "      <td>N477UA</td>\n",
       "      <td>368</td>\n",
       "      <td>SEA</td>\n",
       "      <td>SFO</td>\n",
       "      <td>98.0</td>\n",
       "      <td>679.0</td>\n",
       "      <td>0</td>\n",
       "      <td>0</td>\n",
       "    </tr>\n",
       "    <tr>\n",
       "      <th>2</th>\n",
       "      <td>2018</td>\n",
       "      <td>1</td>\n",
       "      <td>27</td>\n",
       "      <td>2018-01-27</td>\n",
       "      <td>828.0</td>\n",
       "      <td>830</td>\n",
       "      <td>-2.0</td>\n",
       "      <td>1108.0</td>\n",
       "      <td>1107</td>\n",
       "      <td>1.0</td>\n",
       "      <td>UA</td>\n",
       "      <td>N13720</td>\n",
       "      <td>367</td>\n",
       "      <td>DCA</td>\n",
       "      <td>IAH</td>\n",
       "      <td>190.0</td>\n",
       "      <td>1208.0</td>\n",
       "      <td>0</td>\n",
       "      <td>0</td>\n",
       "    </tr>\n",
       "    <tr>\n",
       "      <th>3</th>\n",
       "      <td>2018</td>\n",
       "      <td>1</td>\n",
       "      <td>27</td>\n",
       "      <td>2018-01-27</td>\n",
       "      <td>641.0</td>\n",
       "      <td>650</td>\n",
       "      <td>-9.0</td>\n",
       "      <td>1242.0</td>\n",
       "      <td>1250</td>\n",
       "      <td>-8.0</td>\n",
       "      <td>UA</td>\n",
       "      <td>N16217</td>\n",
       "      <td>366</td>\n",
       "      <td>LAX</td>\n",
       "      <td>ORD</td>\n",
       "      <td>212.0</td>\n",
       "      <td>1744.0</td>\n",
       "      <td>0</td>\n",
       "      <td>0</td>\n",
       "    </tr>\n",
       "    <tr>\n",
       "      <th>4</th>\n",
       "      <td>2018</td>\n",
       "      <td>1</td>\n",
       "      <td>27</td>\n",
       "      <td>2018-01-27</td>\n",
       "      <td>1810.0</td>\n",
       "      <td>1824</td>\n",
       "      <td>-14.0</td>\n",
       "      <td>2021.0</td>\n",
       "      <td>2045</td>\n",
       "      <td>-24.0</td>\n",
       "      <td>UA</td>\n",
       "      <td>N33714</td>\n",
       "      <td>365</td>\n",
       "      <td>JAX</td>\n",
       "      <td>EWR</td>\n",
       "      <td>112.0</td>\n",
       "      <td>820.0</td>\n",
       "      <td>0</td>\n",
       "      <td>0</td>\n",
       "    </tr>\n",
       "  </tbody>\n",
       "</table>\n",
       "</div>"
      ],
      "text/plain": [
       "   year  month  day flightdate  dep_time  sched_dep_time  dep_delay  arr_time  \\\n",
       "0  2018      1   27 2018-01-27     602.0             615      -13.0     756.0   \n",
       "1  2018      1   27 2018-01-27     614.0             618       -4.0     813.0   \n",
       "2  2018      1   27 2018-01-27     828.0             830       -2.0    1108.0   \n",
       "3  2018      1   27 2018-01-27     641.0             650       -9.0    1242.0   \n",
       "4  2018      1   27 2018-01-27    1810.0            1824      -14.0    2021.0   \n",
       "\n",
       "   sched_arr_time  arr_delay carrier tailnum  flight origin dest  air_time  \\\n",
       "0             808      -12.0      UA  N26232     369    FLL  IAH     148.0   \n",
       "1             831      -18.0      UA  N477UA     368    SEA  SFO      98.0   \n",
       "2            1107        1.0      UA  N13720     367    DCA  IAH     190.0   \n",
       "3            1250       -8.0      UA  N16217     366    LAX  ORD     212.0   \n",
       "4            2045      -24.0      UA  N33714     365    JAX  EWR     112.0   \n",
       "\n",
       "   distance  cancelled  diverted  \n",
       "0     966.0          0         0  \n",
       "1     679.0          0         0  \n",
       "2    1208.0          0         0  \n",
       "3    1744.0          0         0  \n",
       "4     820.0          0         0  "
      ]
     },
     "execution_count": 35,
     "metadata": {},
     "output_type": "execute_result"
    }
   ],
   "source": [
    "# Call function and check resulting dataframe\n",
    "df_clean = clean_airline_df(df)\n",
    "df_clean.head()"
   ]
  },
  {
   "cell_type": "markdown",
   "id": "spanish-disease",
   "metadata": {},
   "source": [
    "If you decide to only look at specific airports, it is a good decision to filter for them in advance.  \n",
    "This function does the filtering. "
   ]
  },
  {
   "cell_type": "code",
   "execution_count": 36,
   "id": "rubber-estonia",
   "metadata": {},
   "outputs": [],
   "source": [
    "# Specify the airports you are interested in and put them as a list in the function.\n",
    "def select_airport(df, airports):\n",
    "    ''' Helper function for filtering airline df for a subset of airports'''\n",
    "    df_out = df.loc[(df.origin.isin(airports)) | (df.dest.isin(airports))]\n",
    "    return df_out"
   ]
  },
  {
   "cell_type": "code",
   "execution_count": 37,
   "id": "equipped-german",
   "metadata": {},
   "outputs": [
    {
     "data": {
      "text/html": [
       "<div>\n",
       "<style scoped>\n",
       "    .dataframe tbody tr th:only-of-type {\n",
       "        vertical-align: middle;\n",
       "    }\n",
       "\n",
       "    .dataframe tbody tr th {\n",
       "        vertical-align: top;\n",
       "    }\n",
       "\n",
       "    .dataframe thead th {\n",
       "        text-align: right;\n",
       "    }\n",
       "</style>\n",
       "<table border=\"1\" class=\"dataframe\">\n",
       "  <thead>\n",
       "    <tr style=\"text-align: right;\">\n",
       "      <th></th>\n",
       "      <th>year</th>\n",
       "      <th>month</th>\n",
       "      <th>day</th>\n",
       "      <th>flightdate</th>\n",
       "      <th>dep_time</th>\n",
       "      <th>sched_dep_time</th>\n",
       "      <th>dep_delay</th>\n",
       "      <th>arr_time</th>\n",
       "      <th>sched_arr_time</th>\n",
       "      <th>arr_delay</th>\n",
       "      <th>carrier</th>\n",
       "      <th>tailnum</th>\n",
       "      <th>flight</th>\n",
       "      <th>origin</th>\n",
       "      <th>dest</th>\n",
       "      <th>air_time</th>\n",
       "      <th>distance</th>\n",
       "      <th>cancelled</th>\n",
       "      <th>diverted</th>\n",
       "    </tr>\n",
       "  </thead>\n",
       "  <tbody>\n",
       "    <tr>\n",
       "      <th>0</th>\n",
       "      <td>2018</td>\n",
       "      <td>1</td>\n",
       "      <td>27</td>\n",
       "      <td>2018-01-27</td>\n",
       "      <td>602.0</td>\n",
       "      <td>615</td>\n",
       "      <td>-13.0</td>\n",
       "      <td>756.0</td>\n",
       "      <td>808</td>\n",
       "      <td>-12.0</td>\n",
       "      <td>UA</td>\n",
       "      <td>N26232</td>\n",
       "      <td>369</td>\n",
       "      <td>FLL</td>\n",
       "      <td>IAH</td>\n",
       "      <td>148.0</td>\n",
       "      <td>966.0</td>\n",
       "      <td>0</td>\n",
       "      <td>0</td>\n",
       "    </tr>\n",
       "    <tr>\n",
       "      <th>1</th>\n",
       "      <td>2018</td>\n",
       "      <td>1</td>\n",
       "      <td>27</td>\n",
       "      <td>2018-01-27</td>\n",
       "      <td>614.0</td>\n",
       "      <td>618</td>\n",
       "      <td>-4.0</td>\n",
       "      <td>813.0</td>\n",
       "      <td>831</td>\n",
       "      <td>-18.0</td>\n",
       "      <td>UA</td>\n",
       "      <td>N477UA</td>\n",
       "      <td>368</td>\n",
       "      <td>SEA</td>\n",
       "      <td>SFO</td>\n",
       "      <td>98.0</td>\n",
       "      <td>679.0</td>\n",
       "      <td>0</td>\n",
       "      <td>0</td>\n",
       "    </tr>\n",
       "    <tr>\n",
       "      <th>2</th>\n",
       "      <td>2018</td>\n",
       "      <td>1</td>\n",
       "      <td>27</td>\n",
       "      <td>2018-01-27</td>\n",
       "      <td>828.0</td>\n",
       "      <td>830</td>\n",
       "      <td>-2.0</td>\n",
       "      <td>1108.0</td>\n",
       "      <td>1107</td>\n",
       "      <td>1.0</td>\n",
       "      <td>UA</td>\n",
       "      <td>N13720</td>\n",
       "      <td>367</td>\n",
       "      <td>DCA</td>\n",
       "      <td>IAH</td>\n",
       "      <td>190.0</td>\n",
       "      <td>1208.0</td>\n",
       "      <td>0</td>\n",
       "      <td>0</td>\n",
       "    </tr>\n",
       "    <tr>\n",
       "      <th>3</th>\n",
       "      <td>2018</td>\n",
       "      <td>1</td>\n",
       "      <td>27</td>\n",
       "      <td>2018-01-27</td>\n",
       "      <td>641.0</td>\n",
       "      <td>650</td>\n",
       "      <td>-9.0</td>\n",
       "      <td>1242.0</td>\n",
       "      <td>1250</td>\n",
       "      <td>-8.0</td>\n",
       "      <td>UA</td>\n",
       "      <td>N16217</td>\n",
       "      <td>366</td>\n",
       "      <td>LAX</td>\n",
       "      <td>ORD</td>\n",
       "      <td>212.0</td>\n",
       "      <td>1744.0</td>\n",
       "      <td>0</td>\n",
       "      <td>0</td>\n",
       "    </tr>\n",
       "    <tr>\n",
       "      <th>4</th>\n",
       "      <td>2018</td>\n",
       "      <td>1</td>\n",
       "      <td>27</td>\n",
       "      <td>2018-01-27</td>\n",
       "      <td>1810.0</td>\n",
       "      <td>1824</td>\n",
       "      <td>-14.0</td>\n",
       "      <td>2021.0</td>\n",
       "      <td>2045</td>\n",
       "      <td>-24.0</td>\n",
       "      <td>UA</td>\n",
       "      <td>N33714</td>\n",
       "      <td>365</td>\n",
       "      <td>JAX</td>\n",
       "      <td>EWR</td>\n",
       "      <td>112.0</td>\n",
       "      <td>820.0</td>\n",
       "      <td>0</td>\n",
       "      <td>0</td>\n",
       "    </tr>\n",
       "  </tbody>\n",
       "</table>\n",
       "</div>"
      ],
      "text/plain": [
       "   year  month  day flightdate  dep_time  sched_dep_time  dep_delay  arr_time  \\\n",
       "0  2018      1   27 2018-01-27     602.0             615      -13.0     756.0   \n",
       "1  2018      1   27 2018-01-27     614.0             618       -4.0     813.0   \n",
       "2  2018      1   27 2018-01-27     828.0             830       -2.0    1108.0   \n",
       "3  2018      1   27 2018-01-27     641.0             650       -9.0    1242.0   \n",
       "4  2018      1   27 2018-01-27    1810.0            1824      -14.0    2021.0   \n",
       "\n",
       "   sched_arr_time  arr_delay carrier tailnum  flight origin dest  air_time  \\\n",
       "0             808      -12.0      UA  N26232     369    FLL  IAH     148.0   \n",
       "1             831      -18.0      UA  N477UA     368    SEA  SFO      98.0   \n",
       "2            1107        1.0      UA  N13720     367    DCA  IAH     190.0   \n",
       "3            1250       -8.0      UA  N16217     366    LAX  ORD     212.0   \n",
       "4            2045      -24.0      UA  N33714     365    JAX  EWR     112.0   \n",
       "\n",
       "   distance  cancelled  diverted  \n",
       "0     966.0          0         0  \n",
       "1     679.0          0         0  \n",
       "2    1208.0          0         0  \n",
       "3    1744.0          0         0  \n",
       "4     820.0          0         0  "
      ]
     },
     "execution_count": 37,
     "metadata": {},
     "output_type": "execute_result"
    }
   ],
   "source": [
    "# Execute function, not filtering for any specific airports\n",
    "airports=[]\n",
    "if len(airports) > 0:\n",
    "    df_airline = select_airport(df_clean, airports)\n",
    "else:\n",
    "    df_airline = df_clean\n",
    "    \n",
    "df_airline.head()"
   ]
  },
  {
   "cell_type": "markdown",
   "id": "amber-gambling",
   "metadata": {},
   "source": [
    "# 4. Push the prepared data to a table in the database"
   ]
  },
  {
   "cell_type": "code",
   "execution_count": 38,
   "id": "exotic-display",
   "metadata": {},
   "outputs": [
    {
     "name": "stdout",
     "output_type": "stream",
     "text": [
      "done uploading 2018-1\n"
     ]
    }
   ],
   "source": [
    "# Specify which table within your database you want to push your data to. For our case, use the nyflights table.\n",
    "# If the specified table doesn't exist yet, it will be created\n",
    "# With 'append', your data will be appended to the already existing data within the table nyflights.\n",
    "# This will take a minute or two...\n",
    "\n",
    "table = 'nyflights'\n",
    "\n",
    "# Sends your data to specified table, via the etablished connection\n",
    "df_airline.to_sql(table, engine, index=False, if_exists=\"append\", \n",
    "    method='multi', chunksize=5000)\n",
    "print(f'done uploading {year}-{month}')"
   ]
  },
  {
   "cell_type": "markdown",
   "id": "informative-reference",
   "metadata": {},
   "source": [
    "# 5. Use SQL to query data from the database"
   ]
  },
  {
   "cell_type": "markdown",
   "id": "invisible-electronics",
   "metadata": {},
   "source": [
    "### Tasks\n",
    "Having sent the data to the database, it is always good to check the results."
   ]
  },
  {
   "cell_type": "markdown",
   "id": "confused-keyboard",
   "metadata": {},
   "source": [
    "1. Check the top 5 rows of the nyflights table (as we did above)"
   ]
  },
  {
   "cell_type": "code",
   "execution_count": null,
   "id": "lonely-british",
   "metadata": {},
   "outputs": [],
   "source": []
  },
  {
   "cell_type": "markdown",
   "id": "wanted-automation",
   "metadata": {},
   "source": [
    "2. Check if your data has been added by selecting your month and year."
   ]
  },
  {
   "cell_type": "code",
   "execution_count": null,
   "id": "according-turner",
   "metadata": {},
   "outputs": [],
   "source": []
  },
  {
   "cell_type": "markdown",
   "id": "little-confidence",
   "metadata": {},
   "source": [
    "3. See how many rows you have sent to the database by selecting your month and year in combination with count and group by."
   ]
  },
  {
   "cell_type": "code",
   "execution_count": null,
   "id": "proved-filter",
   "metadata": {},
   "outputs": [],
   "source": []
  },
  {
   "cell_type": "markdown",
   "id": "colored-tower",
   "metadata": {},
   "source": [
    "# 6. Wrap-up"
   ]
  },
  {
   "cell_type": "markdown",
   "id": "statewide-buyer",
   "metadata": {},
   "source": [
    "The following function puts everything we did above together.  "
   ]
  },
  {
   "cell_type": "code",
   "execution_count": 41,
   "id": "intellectual-astrology",
   "metadata": {},
   "outputs": [],
   "source": [
    "def airline_csv_to_sql(years=[2020], months=[2], path ='data/', table='flights', airports=[]):\n",
    "    '''Downloads and unzips the flight data from BTS'''\n",
    "    \n",
    "    # Establish db connection\n",
    "    params = config(section='postgresql')\n",
    "    engine = pg_engine_connection(**params)\n",
    "    engine.dispose()\n",
    "\n",
    "    # Loop through months\n",
    "    for year in years:\n",
    "        for month in months:\n",
    "            # Get the file\n",
    "            zip_file = f'On_Time_Reporting_Carrier_On_Time_Performance_1987_present_{year}_{month}.zip'\n",
    "            csv_file = f'On_Time_Reporting_Carrier_On_Time_Performance_(1987_present)_{year}_{month}.csv'\n",
    "            url = (f'https://transtats.bts.gov/PREZIP/{zip_file}')\n",
    "            arg = f' -P {path} --no-check-certificate'\n",
    "            !wget {url}{arg} \n",
    "\n",
    "            # unzip\n",
    "            with ZipFile(path+zip_file, 'r') as zip_ref:\n",
    "                zip_ref.extractall(path)\n",
    "            \n",
    "            # prepare df\n",
    "            df_airline = pd.read_csv(path+csv_file, low_memory=False)\n",
    "            df_airline = clean_airline_df(df_airline)\n",
    "            \n",
    "            # Select specific airports \n",
    "            if len(airports) > 0:\n",
    "                df_airline = select_airport(df_airline, airports)\n",
    "\n",
    "            # to SQL\n",
    "            print(f'starting uploading {df_airline.shape[0]} rows from {year}-{month}')\n",
    "            df_airline.to_sql(table, engine, index=False, if_exists=\"append\", \n",
    "                  method='multi', chunksize=5000)\n",
    "            print(f'done uploading {year}-{month}')"
   ]
  },
  {
   "cell_type": "code",
   "execution_count": null,
   "id": "widespread-asset",
   "metadata": {},
   "outputs": [],
   "source": []
  }
 ],
 "metadata": {
  "kernelspec": {
   "display_name": "Python [conda env:sql-practice]",
   "language": "python",
   "name": "conda-env-sql-practice-py"
  },
  "language_info": {
   "codemirror_mode": {
    "name": "ipython",
    "version": 3
   },
   "file_extension": ".py",
   "mimetype": "text/x-python",
   "name": "python",
   "nbconvert_exporter": "python",
   "pygments_lexer": "ipython3",
   "version": "3.8.5"
  }
 },
 "nbformat": 4,
 "nbformat_minor": 5
}
