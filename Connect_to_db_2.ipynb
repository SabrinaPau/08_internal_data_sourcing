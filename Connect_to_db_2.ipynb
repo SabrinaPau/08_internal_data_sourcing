{
 "cells": [
  {
   "cell_type": "markdown",
   "id": "endangered-disco",
   "metadata": {},
   "source": [
    "# Prepare more data for sending to database"
   ]
  },
  {
   "cell_type": "code",
   "execution_count": 2,
   "id": "recognized-dallas",
   "metadata": {},
   "outputs": [
    {
     "data": {
      "text/html": [
       "<img src=\"https://images.freecreatives.com/wp-content/uploads/2016/02/Airplane-Landing-Wallpaper.jpg\" width=\"600\"/>"
      ],
      "text/plain": [
       "<IPython.core.display.Image object>"
      ]
     },
     "execution_count": 2,
     "metadata": {},
     "output_type": "execute_result"
    }
   ],
   "source": [
    "from IPython.display import Image\n",
    "from IPython.core.display import HTML \n",
    "Image(url= \"https://images.freecreatives.com/wp-content/uploads/2016/02/Airplane-Landing-Wallpaper.jpg\", width = 600)"
   ]
  },
  {
   "cell_type": "markdown",
   "id": "artistic-gathering",
   "metadata": {},
   "source": [
    "**In this notebook, we will prepare two other datasets and send them to our database.**  \n",
    "We now want to expand our flights data by adding more information about the airports and airlines included in our nyflights table.  \n",
    "Therefore, we will set up two new tables, which we can later on combine with our nyflights table.  \n",
    "The first table is about **airports** and their locations, the second about **airlines**.\n",
    "\n"
   ]
  },
  {
   "cell_type": "code",
   "execution_count": 3,
   "id": "fundamental-uniform",
   "metadata": {},
   "outputs": [],
   "source": [
    "# Import all necessary libraries\n",
    "import pandas as pd\n",
    "import numpy as np\n",
    "import requests\n",
    "from zipfile import *\n",
    "from configdef import *\n",
    "from sqlalchemy import exc #SQLAlchemy provides a nice “Pythonic” way of interacting with databases.\n",
    "from sqlalchemy import event"
   ]
  },
  {
   "cell_type": "markdown",
   "id": "stuffed-strengthening",
   "metadata": {},
   "source": [
    "# 1. Set up a connection"
   ]
  },
  {
   "cell_type": "markdown",
   "id": "adjacent-channel",
   "metadata": {},
   "source": [
    "Again we start with connecting to our sql database."
   ]
  },
  {
   "cell_type": "code",
   "execution_count": 4,
   "id": "floral-platinum",
   "metadata": {},
   "outputs": [
    {
     "name": "stdout",
     "output_type": "stream",
     "text": [
      "Postgres Database connection successful\n"
     ]
    }
   ],
   "source": [
    "# Establish db connection\n",
    "\n",
    "# Get connection details from configdef file into a list\n",
    "params = config(section='postgres')\n",
    "\n",
    "# Use sql alchemy to create connection to database, which is contained within the engine object\n",
    "engine = pg_engine_connection(**params)\n",
    "\n",
    "# Cleans up unnecessary database connections\n",
    "engine.dispose()"
   ]
  },
  {
   "cell_type": "markdown",
   "id": "veterinary-device",
   "metadata": {},
   "source": [
    "# 2. Download, prepare and send data on airports to the database"
   ]
  },
  {
   "cell_type": "markdown",
   "id": "unlike-billion",
   "metadata": {},
   "source": [
    "We now read in and prepare data on [airports](https://raw.githubusercontent.com/jpatokal/openflights/master/data/airports.dat)."
   ]
  },
  {
   "cell_type": "markdown",
   "id": "correct-foster",
   "metadata": {},
   "source": [
    "The following function loads the data, does some data cleaning and sends the data to our database.  \n",
    "Sice we have set ```if_exists='replace'```, the data in the existing table are replaced. As we don't change anything within the data, nothing will change."
   ]
  },
  {
   "cell_type": "code",
   "execution_count": 12,
   "id": "wrapped-cabinet",
   "metadata": {},
   "outputs": [],
   "source": [
    "# All columns in source table\n",
    "airport_columns = ['id', 'name', 'city', 'country', 'faa', 'icao', 'lat', 'lon', 'alt', 'tz', 'dst', 'region', 'airport', 'source']\n",
    "# Define which columns to keep in sql db\n",
    "airport_columns_to_keep = ['faa', 'name', 'lat', 'lon', 'alt', 'tz', 'dst', 'city', 'country']\n",
    "\n",
    "def run_aiports_table_pipeline(engine):\n",
    "    ''' Create the airports table in SQL based on remote source'''\n",
    "    \n",
    "    df_airports = pd.read_csv('https://raw.githubusercontent.com/jpatokal/openflights/master/data/airports.dat', \n",
    "                              names=airport_columns)\n",
    "    df_airports = df_airports.loc[:,airport_columns_to_keep]\n",
    "    \n",
    "    # Clean NULL values by replacing '\\\\N' by NaN\n",
    "    df_airports = df_airports.loc[df_airports['faa']!='\\\\N']\n",
    "    df_airports.replace('\\\\N',np.NaN, inplace=True)\n",
    "    \n",
    "    # Convert datatype of timezone \n",
    "    df_airports['tz']= pd.to_numeric(df_airports['tz'], errors='coerce', downcast='integer')\n",
    "    \n",
    "    # The following try-except loop\n",
    "    if engine!=None:\n",
    "\n",
    "        try:\n",
    "            # sending df to spl\n",
    "            df_airports.to_sql('airports', con=engine, if_exists='replace', index=False, \n",
    "                method='multi', chunksize=5000)\n",
    "            print(f'airports table is imported successfully.')\n",
    "\n",
    "        except exc.SQLAlchemyError as e:\n",
    "            print(type(e))\n",
    "            # set the connection to 'None' in case of error\n",
    "            engine = None"
   ]
  },
  {
   "cell_type": "code",
   "execution_count": 13,
   "id": "ecological-enhancement",
   "metadata": {},
   "outputs": [
    {
     "name": "stdout",
     "output_type": "stream",
     "text": [
      "airports table is imported successfully.\n"
     ]
    }
   ],
   "source": [
    "# Execute the function\n",
    "run_aiports_table_pipeline(engine)"
   ]
  },
  {
   "cell_type": "code",
   "execution_count": 7,
   "id": "informed-guarantee",
   "metadata": {},
   "outputs": [
    {
     "data": {
      "text/plain": [
       "[('GKA', 'Goroka Airport', -6.081689834590001, 145.391998291, 5282, 10.0, 'U', 'Goroka', 'Papua New Guinea'),\n",
       " ('MAG', 'Madang Airport', -5.20707988739, 145.789001465, 20, 10.0, 'U', 'Madang', 'Papua New Guinea'),\n",
       " ('HGU', 'Mount Hagen Kagamuga Airport', -5.826789855957031, 144.29600524902344, 5388, 10.0, 'U', 'Mount Hagen', 'Papua New Guinea'),\n",
       " ('LAE', 'Nadzab Airport', -6.569803, 146.725977, 239, 10.0, 'U', 'Nadzab', 'Papua New Guinea'),\n",
       " ('POM', 'Port Moresby Jacksons International Airport', -9.44338035583496, 147.22000122070312, 146, 10.0, 'U', 'Port Moresby', 'Papua New Guinea')]"
      ]
     },
     "execution_count": 7,
     "metadata": {},
     "output_type": "execute_result"
    }
   ],
   "source": [
    "# Check the top rows of this table\n",
    "airports = engine.execute('select * from airports limit 5').fetchall()\n",
    "airports"
   ]
  },
  {
   "cell_type": "markdown",
   "id": "dress-purpose",
   "metadata": {},
   "source": [
    "# 3. Download, prepare and send data on airlines to the database"
   ]
  },
  {
   "cell_type": "markdown",
   "id": "impaired-trust",
   "metadata": {},
   "source": [
    "We now read in and prepare data on [airlines/carriers](https://raw.githubusercontent.com/dannguyen/bts-transstats-t100-domestic-demo/master/data/lookup-tables/L_UNIQUE_CARRIERS.csv)."
   ]
  },
  {
   "cell_type": "markdown",
   "id": "blocked-object",
   "metadata": {},
   "source": [
    "The following function loads the data and sends the data to our database.  \n",
    "Sice we have set ```if_exists='replace'```, the data in the existing table are replaced. As we don't change anything within the data, nothing will change."
   ]
  },
  {
   "cell_type": "code",
   "execution_count": 11,
   "id": "pointed-findings",
   "metadata": {},
   "outputs": [],
   "source": [
    "carrier_columns = ['carrier', 'name']\n",
    "\n",
    "def run_carrier_table_pipeline(engine):\n",
    "    ''' Create the carriers table in SQL based on remote source'''\n",
    "    \n",
    "    df_carriers = pd.read_csv(\"https://raw.githubusercontent.com/dannguyen/bts-transstats-t100-domestic-demo/master/data/lookup-tables/L_UNIQUE_CARRIERS.csv\", \n",
    "                              names=carrier_columns, skiprows = 1)\n",
    "    \n",
    "    if engine!=None:\n",
    "\n",
    "        try:\n",
    "            # sending df to spl\n",
    "            df_carriers.to_sql('carriers', con=engine, if_exists='replace', index=False, \n",
    "                method='multi', chunksize=5000)\n",
    "            print(f\"airline table is imported successfully.\")\n",
    "\n",
    "        except exc.SQLAlchemyError as e:\n",
    "            print(type(e))\n",
    "            # set the connection to 'None' in case of error\n",
    "            engine = None"
   ]
  },
  {
   "cell_type": "code",
   "execution_count": 15,
   "id": "african-rebecca",
   "metadata": {},
   "outputs": [
    {
     "name": "stdout",
     "output_type": "stream",
     "text": [
      "airline table is imported successfully.\n"
     ]
    }
   ],
   "source": [
    "# Execute the function\n",
    "run_carrier_table_pipeline(engine)"
   ]
  },
  {
   "cell_type": "code",
   "execution_count": 10,
   "id": "united-competition",
   "metadata": {},
   "outputs": [
    {
     "data": {
      "text/plain": [
       "[('02Q', 'Titan Airways'),\n",
       " ('04Q', 'Tradewind Aviation'),\n",
       " ('05Q', 'Comlux Aviation, AG'),\n",
       " ('06Q', 'Master Top Linhas Aereas Ltd.'),\n",
       " ('07Q', 'Flair Airlines Ltd.')]"
      ]
     },
     "execution_count": 10,
     "metadata": {},
     "output_type": "execute_result"
    }
   ],
   "source": [
    "# Check the top rows of this table\n",
    "airlines = engine.execute('select * from carriers limit 5').fetchall()\n",
    "airlines"
   ]
  },
  {
   "cell_type": "code",
   "execution_count": null,
   "id": "obvious-alarm",
   "metadata": {},
   "outputs": [],
   "source": []
  }
 ],
 "metadata": {
  "kernelspec": {
   "display_name": "Python [conda env:sql-practice]",
   "language": "python",
   "name": "conda-env-sql-practice-py"
  },
  "language_info": {
   "codemirror_mode": {
    "name": "ipython",
    "version": 3
   },
   "file_extension": ".py",
   "mimetype": "text/x-python",
   "name": "python",
   "nbconvert_exporter": "python",
   "pygments_lexer": "ipython3",
   "version": "3.8.5"
  }
 },
 "nbformat": 4,
 "nbformat_minor": 5
}
