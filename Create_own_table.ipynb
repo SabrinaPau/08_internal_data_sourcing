{
 "cells": [
  {
   "cell_type": "markdown",
   "id": "rental-terrorism",
   "metadata": {},
   "source": [
    "# Create your own table"
   ]
  },
  {
   "cell_type": "code",
   "execution_count": 20,
   "id": "recognized-fashion",
   "metadata": {},
   "outputs": [
    {
     "data": {
      "text/html": [
       "<img src=\"https://www.brickshop.eu/components/com_virtuemart/shop_image/product/LEGO_31011_Vlieg_51821171a4509.jpg\" width=\"400\"/>"
      ],
      "text/plain": [
       "<IPython.core.display.Image object>"
      ]
     },
     "execution_count": 20,
     "metadata": {},
     "output_type": "execute_result"
    }
   ],
   "source": [
    "from IPython.display import Image\n",
    "from IPython.core.display import HTML \n",
    "Image(url= \"https://www.brickshop.eu/components/com_virtuemart/shop_image/product/LEGO_31011_Vlieg_51821171a4509.jpg\", width = 400)"
   ]
  },
  {
   "cell_type": "markdown",
   "id": "going-sampling",
   "metadata": {},
   "source": [
    "**In this Notebook we will**\n",
    "- Create new dataframe with information about planes\n",
    "- Enrich dataframe with new data\n",
    "- Send data to our database"
   ]
  },
  {
   "cell_type": "markdown",
   "id": "mechanical-medicaid",
   "metadata": {},
   "source": [
    "The first steps are done in the usual code-along form.  \n",
    "Then it is your turn to add data and send it to the database."
   ]
  },
  {
   "cell_type": "code",
   "execution_count": 1,
   "id": "statutory-highland",
   "metadata": {},
   "outputs": [],
   "source": [
    "# Import all necessary libraries\n",
    "import pandas as pd\n",
    "import numpy as np\n",
    "import requests\n",
    "from zipfile import *\n",
    "from configdef import *\n",
    "from sqlalchemy import exc #SQLAlchemy provides a nice “Pythonic” way of interacting with databases.\n",
    "from sqlalchemy import event"
   ]
  },
  {
   "cell_type": "markdown",
   "id": "extra-producer",
   "metadata": {},
   "source": [
    "# 1. Set up a connection "
   ]
  },
  {
   "cell_type": "markdown",
   "id": "international-likelihood",
   "metadata": {},
   "source": [
    "Again we start with connecting to our sql database."
   ]
  },
  {
   "cell_type": "code",
   "execution_count": 2,
   "id": "differential-illness",
   "metadata": {},
   "outputs": [
    {
     "name": "stdout",
     "output_type": "stream",
     "text": [
      "Postgres Database connection successful\n"
     ]
    }
   ],
   "source": [
    "# Establish db connection\n",
    "\n",
    "# Get connection details from configdef file into a list\n",
    "params = config(section='postgres')\n",
    "\n",
    "# Use sql alchemy to create connection to database, which is contained within the engine object\n",
    "engine = pg_engine_connection(**params)\n",
    "\n",
    "# Cleans up unnecessary database connections\n",
    "engine.dispose()"
   ]
  },
  {
   "cell_type": "markdown",
   "id": "pleased-bryan",
   "metadata": {},
   "source": [
    "# 2. Build new dataframe with information about planes "
   ]
  },
  {
   "cell_type": "markdown",
   "id": "cloudy-validity",
   "metadata": {},
   "source": [
    "Within our nyflights table, there is one column \"tailnum\", which is the identification number painted on an aircraft.  \n",
    "We will use the unique tail numbers as plane identifier.  \n",
    "We can access it by querying the column and afterwards, store it in a dataframe for further processing:"
   ]
  },
  {
   "cell_type": "code",
   "execution_count": 3,
   "id": "alternative-broadcasting",
   "metadata": {},
   "outputs": [],
   "source": [
    "planes = engine.execute('select distinct(tailnum)from nyflights').fetchall()"
   ]
  },
  {
   "cell_type": "code",
   "execution_count": 4,
   "id": "headed-marking",
   "metadata": {},
   "outputs": [],
   "source": [
    "# Create a pandas dataframe with queried data\n",
    "df_planes = pd.DataFrame(planes, columns = [\"tailnumber\"])\n",
    "df_planes.dropna(inplace = True)"
   ]
  },
  {
   "cell_type": "code",
   "execution_count": 5,
   "id": "increased-liabilities",
   "metadata": {},
   "outputs": [
    {
     "data": {
      "text/html": [
       "<div>\n",
       "<style scoped>\n",
       "    .dataframe tbody tr th:only-of-type {\n",
       "        vertical-align: middle;\n",
       "    }\n",
       "\n",
       "    .dataframe tbody tr th {\n",
       "        vertical-align: top;\n",
       "    }\n",
       "\n",
       "    .dataframe thead th {\n",
       "        text-align: right;\n",
       "    }\n",
       "</style>\n",
       "<table border=\"1\" class=\"dataframe\">\n",
       "  <thead>\n",
       "    <tr style=\"text-align: right;\">\n",
       "      <th></th>\n",
       "      <th>tailnumber</th>\n",
       "    </tr>\n",
       "  </thead>\n",
       "  <tbody>\n",
       "    <tr>\n",
       "      <th>1</th>\n",
       "      <td>N8647A</td>\n",
       "    </tr>\n",
       "    <tr>\n",
       "      <th>2</th>\n",
       "      <td>N342DN</td>\n",
       "    </tr>\n",
       "    <tr>\n",
       "      <th>3</th>\n",
       "      <td>N665NK</td>\n",
       "    </tr>\n",
       "    <tr>\n",
       "      <th>4</th>\n",
       "      <td>N585NN</td>\n",
       "    </tr>\n",
       "    <tr>\n",
       "      <th>5</th>\n",
       "      <td>N904WN</td>\n",
       "    </tr>\n",
       "  </tbody>\n",
       "</table>\n",
       "</div>"
      ],
      "text/plain": [
       "  tailnumber\n",
       "1     N8647A\n",
       "2     N342DN\n",
       "3     N665NK\n",
       "4     N585NN\n",
       "5     N904WN"
      ]
     },
     "execution_count": 5,
     "metadata": {},
     "output_type": "execute_result"
    }
   ],
   "source": [
    "df_planes.head()"
   ]
  },
  {
   "cell_type": "markdown",
   "id": "alpha-joint",
   "metadata": {},
   "source": [
    "# 3. Enrich dataframe with new information"
   ]
  },
  {
   "cell_type": "markdown",
   "id": "opponent-treasury",
   "metadata": {},
   "source": [
    "Now we can add more columns to our dataframe.  \n",
    "First, let's create a new column which randomly adds the manufacturer to each entry."
   ]
  },
  {
   "cell_type": "code",
   "execution_count": 6,
   "id": "tested-volume",
   "metadata": {},
   "outputs": [
    {
     "data": {
      "text/plain": [
       "'airbus'"
      ]
     },
     "execution_count": 6,
     "metadata": {},
     "output_type": "execute_result"
    }
   ],
   "source": [
    "# np.random.choice generates a random sample from a given 1-D array\n",
    "def choose_mfg():\n",
    "    return np.random.choice([\"airbus\", \"boeing\"])\n",
    "choose_mfg()"
   ]
  },
  {
   "cell_type": "code",
   "execution_count": 7,
   "id": "decreased-memory",
   "metadata": {},
   "outputs": [],
   "source": [
    "# Use np.random.choice function with a lambda function to apply it to every row of our dataframe.\n",
    "df_planes['manufacturer'] = df_planes.apply(lambda x: choose_mfg(), axis=1)"
   ]
  },
  {
   "cell_type": "code",
   "execution_count": 8,
   "id": "voluntary-composer",
   "metadata": {},
   "outputs": [
    {
     "data": {
      "text/html": [
       "<div>\n",
       "<style scoped>\n",
       "    .dataframe tbody tr th:only-of-type {\n",
       "        vertical-align: middle;\n",
       "    }\n",
       "\n",
       "    .dataframe tbody tr th {\n",
       "        vertical-align: top;\n",
       "    }\n",
       "\n",
       "    .dataframe thead th {\n",
       "        text-align: right;\n",
       "    }\n",
       "</style>\n",
       "<table border=\"1\" class=\"dataframe\">\n",
       "  <thead>\n",
       "    <tr style=\"text-align: right;\">\n",
       "      <th></th>\n",
       "      <th>tailnumber</th>\n",
       "      <th>manufacturer</th>\n",
       "    </tr>\n",
       "  </thead>\n",
       "  <tbody>\n",
       "    <tr>\n",
       "      <th>1</th>\n",
       "      <td>N8647A</td>\n",
       "      <td>airbus</td>\n",
       "    </tr>\n",
       "    <tr>\n",
       "      <th>2</th>\n",
       "      <td>N342DN</td>\n",
       "      <td>boeing</td>\n",
       "    </tr>\n",
       "    <tr>\n",
       "      <th>3</th>\n",
       "      <td>N665NK</td>\n",
       "      <td>airbus</td>\n",
       "    </tr>\n",
       "    <tr>\n",
       "      <th>4</th>\n",
       "      <td>N585NN</td>\n",
       "      <td>boeing</td>\n",
       "    </tr>\n",
       "    <tr>\n",
       "      <th>5</th>\n",
       "      <td>N904WN</td>\n",
       "      <td>airbus</td>\n",
       "    </tr>\n",
       "  </tbody>\n",
       "</table>\n",
       "</div>"
      ],
      "text/plain": [
       "  tailnumber manufacturer\n",
       "1     N8647A       airbus\n",
       "2     N342DN       boeing\n",
       "3     N665NK       airbus\n",
       "4     N585NN       boeing\n",
       "5     N904WN       airbus"
      ]
     },
     "execution_count": 8,
     "metadata": {},
     "output_type": "execute_result"
    }
   ],
   "source": [
    "df_planes.head()"
   ]
  },
  {
   "cell_type": "markdown",
   "id": "relevant-profit",
   "metadata": {},
   "source": [
    "Another option is to use available data out of the nyflights data and build f.e. aggregated measures for our plane-dataframe.  \n",
    "Let's select the minimum flight date for each plane for having infos about its \"maiden flight\"."
   ]
  },
  {
   "cell_type": "code",
   "execution_count": 9,
   "id": "quick-candy",
   "metadata": {},
   "outputs": [],
   "source": [
    "# Select the minimum flightdate per tailnumber\n",
    "first_flight = engine.execute('select tailnum, min(FlightDate) from nyflights group by tailnum').fetchall()"
   ]
  },
  {
   "cell_type": "code",
   "execution_count": 10,
   "id": "quick-force",
   "metadata": {},
   "outputs": [
    {
     "data": {
      "text/html": [
       "<div>\n",
       "<style scoped>\n",
       "    .dataframe tbody tr th:only-of-type {\n",
       "        vertical-align: middle;\n",
       "    }\n",
       "\n",
       "    .dataframe tbody tr th {\n",
       "        vertical-align: top;\n",
       "    }\n",
       "\n",
       "    .dataframe thead th {\n",
       "        text-align: right;\n",
       "    }\n",
       "</style>\n",
       "<table border=\"1\" class=\"dataframe\">\n",
       "  <thead>\n",
       "    <tr style=\"text-align: right;\">\n",
       "      <th></th>\n",
       "      <th>tailnumber</th>\n",
       "      <th>first_flight</th>\n",
       "    </tr>\n",
       "  </thead>\n",
       "  <tbody>\n",
       "    <tr>\n",
       "      <th>0</th>\n",
       "      <td>215NV</td>\n",
       "      <td>2018-01-01</td>\n",
       "    </tr>\n",
       "    <tr>\n",
       "      <th>1</th>\n",
       "      <td>216NV</td>\n",
       "      <td>2018-01-01</td>\n",
       "    </tr>\n",
       "    <tr>\n",
       "      <th>2</th>\n",
       "      <td>217NV</td>\n",
       "      <td>2018-01-01</td>\n",
       "    </tr>\n",
       "    <tr>\n",
       "      <th>3</th>\n",
       "      <td>218NV</td>\n",
       "      <td>2018-01-01</td>\n",
       "    </tr>\n",
       "    <tr>\n",
       "      <th>4</th>\n",
       "      <td>219NV</td>\n",
       "      <td>2018-01-01</td>\n",
       "    </tr>\n",
       "  </tbody>\n",
       "</table>\n",
       "</div>"
      ],
      "text/plain": [
       "  tailnumber first_flight\n",
       "0      215NV   2018-01-01\n",
       "1      216NV   2018-01-01\n",
       "2      217NV   2018-01-01\n",
       "3      218NV   2018-01-01\n",
       "4      219NV   2018-01-01"
      ]
     },
     "execution_count": 10,
     "metadata": {},
     "output_type": "execute_result"
    }
   ],
   "source": [
    "# Create a pandas dataframe with queried data\n",
    "df_firstflight = pd.DataFrame(first_flight, columns = [\"tailnumber\", \"first_flight\"])\n",
    "df_firstflight.dropna(inplace = True)\n",
    "df_firstflight.head()"
   ]
  },
  {
   "cell_type": "markdown",
   "id": "fiscal-teddy",
   "metadata": {},
   "source": [
    "Having sucessfully stored our first_flight info in a dataframe, we now need to merge our two distinct dataframes on the common column \"tailnumber\"."
   ]
  },
  {
   "cell_type": "code",
   "execution_count": 11,
   "id": "graduate-maine",
   "metadata": {},
   "outputs": [],
   "source": [
    "df_planes = pd.merge(df_planes, df_firstflight, how=\"left\", on=\"tailnumber\")"
   ]
  },
  {
   "cell_type": "code",
   "execution_count": 12,
   "id": "stainless-square",
   "metadata": {},
   "outputs": [
    {
     "data": {
      "text/html": [
       "<div>\n",
       "<style scoped>\n",
       "    .dataframe tbody tr th:only-of-type {\n",
       "        vertical-align: middle;\n",
       "    }\n",
       "\n",
       "    .dataframe tbody tr th {\n",
       "        vertical-align: top;\n",
       "    }\n",
       "\n",
       "    .dataframe thead th {\n",
       "        text-align: right;\n",
       "    }\n",
       "</style>\n",
       "<table border=\"1\" class=\"dataframe\">\n",
       "  <thead>\n",
       "    <tr style=\"text-align: right;\">\n",
       "      <th></th>\n",
       "      <th>tailnumber</th>\n",
       "      <th>manufacturer</th>\n",
       "      <th>first_flight</th>\n",
       "    </tr>\n",
       "  </thead>\n",
       "  <tbody>\n",
       "    <tr>\n",
       "      <th>0</th>\n",
       "      <td>N8647A</td>\n",
       "      <td>airbus</td>\n",
       "      <td>2018-01-01</td>\n",
       "    </tr>\n",
       "    <tr>\n",
       "      <th>1</th>\n",
       "      <td>N342DN</td>\n",
       "      <td>boeing</td>\n",
       "      <td>2018-09-01</td>\n",
       "    </tr>\n",
       "    <tr>\n",
       "      <th>2</th>\n",
       "      <td>N665NK</td>\n",
       "      <td>airbus</td>\n",
       "      <td>2018-01-01</td>\n",
       "    </tr>\n",
       "    <tr>\n",
       "      <th>3</th>\n",
       "      <td>N585NN</td>\n",
       "      <td>boeing</td>\n",
       "      <td>2018-01-01</td>\n",
       "    </tr>\n",
       "    <tr>\n",
       "      <th>4</th>\n",
       "      <td>N904WN</td>\n",
       "      <td>airbus</td>\n",
       "      <td>2018-01-01</td>\n",
       "    </tr>\n",
       "  </tbody>\n",
       "</table>\n",
       "</div>"
      ],
      "text/plain": [
       "  tailnumber manufacturer first_flight\n",
       "0     N8647A       airbus   2018-01-01\n",
       "1     N342DN       boeing   2018-09-01\n",
       "2     N665NK       airbus   2018-01-01\n",
       "3     N585NN       boeing   2018-01-01\n",
       "4     N904WN       airbus   2018-01-01"
      ]
     },
     "execution_count": 12,
     "metadata": {},
     "output_type": "execute_result"
    }
   ],
   "source": [
    "df_planes.head()"
   ]
  },
  {
   "cell_type": "markdown",
   "id": "distant-wildlife",
   "metadata": {},
   "source": [
    "## Task"
   ]
  },
  {
   "cell_type": "markdown",
   "id": "gross-blake",
   "metadata": {},
   "source": [
    "1. Create 3+ new columns for the planes table. Think about other information you want to add that would be useful in the data analysis later.  \n",
    "Either create random, fake data or use data out of the available nyflights data, as shown above.  \n",
    "As an example, infos about max speed might be interesting or some fake features about the appearance or performance of the plane."
   ]
  },
  {
   "cell_type": "markdown",
   "id": "split-brush",
   "metadata": {},
   "source": [
    "2. Merge it to one dataframe. Check that there are no duplicates or other problems that may have crept in through aggregating and joining."
   ]
  },
  {
   "cell_type": "markdown",
   "id": "clear-valuation",
   "metadata": {},
   "source": [
    "3. Send your data to a new table in the database.  \n",
    "Use the to_sql method we have used in these notebooks.\n",
    "**Important: Give the table you send your data a distinct name (f.e. planes_your_name), so that you can find it later on.**"
   ]
  },
  {
   "cell_type": "code",
   "execution_count": null,
   "id": "nasty-seating",
   "metadata": {},
   "outputs": [],
   "source": []
  },
  {
   "cell_type": "code",
   "execution_count": null,
   "id": "powerful-afternoon",
   "metadata": {},
   "outputs": [],
   "source": []
  }
 ],
 "metadata": {
  "kernelspec": {
   "display_name": "Python [conda env:sql-practice]",
   "language": "python",
   "name": "conda-env-sql-practice-py"
  },
  "language_info": {
   "codemirror_mode": {
    "name": "ipython",
    "version": 3
   },
   "file_extension": ".py",
   "mimetype": "text/x-python",
   "name": "python",
   "nbconvert_exporter": "python",
   "pygments_lexer": "ipython3",
   "version": "3.8.5"
  }
 },
 "nbformat": 4,
 "nbformat_minor": 5
}
